{
  "nbformat": 4,
  "nbformat_minor": 0,
  "metadata": {
    "colab": {
      "provenance": [],
      "collapsed_sections": [],
      "authorship_tag": "ABX9TyNPfCn5wMc5RD5awzNjtdoS",
      "include_colab_link": true
    },
    "kernelspec": {
      "name": "python3",
      "display_name": "Python 3"
    },
    "language_info": {
      "name": "python"
    },
    "accelerator": "GPU",
    "gpuClass": "standard",
    "widgets": {
      "application/vnd.jupyter.widget-state+json": {
        "12fe5079b97b4a1cbd0be41cecbdd561": {
          "model_module": "@jupyter-widgets/controls",
          "model_name": "HBoxModel",
          "model_module_version": "1.5.0",
          "state": {
            "_dom_classes": [],
            "_model_module": "@jupyter-widgets/controls",
            "_model_module_version": "1.5.0",
            "_model_name": "HBoxModel",
            "_view_count": null,
            "_view_module": "@jupyter-widgets/controls",
            "_view_module_version": "1.5.0",
            "_view_name": "HBoxView",
            "box_style": "",
            "children": [
              "IPY_MODEL_f0ab9c772b284b429158d03076cbd31f",
              "IPY_MODEL_d78b4037ac85430f947e9d1fe413986e",
              "IPY_MODEL_d34ca9103fea4425ba5f145099a94c77"
            ],
            "layout": "IPY_MODEL_446398bfffa84a23b9be1afa33b2462b"
          }
        },
        "f0ab9c772b284b429158d03076cbd31f": {
          "model_module": "@jupyter-widgets/controls",
          "model_name": "HTMLModel",
          "model_module_version": "1.5.0",
          "state": {
            "_dom_classes": [],
            "_model_module": "@jupyter-widgets/controls",
            "_model_module_version": "1.5.0",
            "_model_name": "HTMLModel",
            "_view_count": null,
            "_view_module": "@jupyter-widgets/controls",
            "_view_module_version": "1.5.0",
            "_view_name": "HTMLView",
            "description": "",
            "description_tooltip": null,
            "layout": "IPY_MODEL_b237ccaf198b4bf78d5172b1bf4df5f2",
            "placeholder": "​",
            "style": "IPY_MODEL_2896fa60e0154e0ebcb5cae1deab45cc",
            "value": "100%"
          }
        },
        "d78b4037ac85430f947e9d1fe413986e": {
          "model_module": "@jupyter-widgets/controls",
          "model_name": "FloatProgressModel",
          "model_module_version": "1.5.0",
          "state": {
            "_dom_classes": [],
            "_model_module": "@jupyter-widgets/controls",
            "_model_module_version": "1.5.0",
            "_model_name": "FloatProgressModel",
            "_view_count": null,
            "_view_module": "@jupyter-widgets/controls",
            "_view_module_version": "1.5.0",
            "_view_name": "ProgressView",
            "bar_style": "success",
            "description": "",
            "description_tooltip": null,
            "layout": "IPY_MODEL_0d2aa20139364ac0b6bb1d5446870c47",
            "max": 346328529,
            "min": 0,
            "orientation": "horizontal",
            "style": "IPY_MODEL_256c6e46dd0f4ee1bbc004604530416a",
            "value": 346328529
          }
        },
        "d34ca9103fea4425ba5f145099a94c77": {
          "model_module": "@jupyter-widgets/controls",
          "model_name": "HTMLModel",
          "model_module_version": "1.5.0",
          "state": {
            "_dom_classes": [],
            "_model_module": "@jupyter-widgets/controls",
            "_model_module_version": "1.5.0",
            "_model_name": "HTMLModel",
            "_view_count": null,
            "_view_module": "@jupyter-widgets/controls",
            "_view_module_version": "1.5.0",
            "_view_name": "HTMLView",
            "description": "",
            "description_tooltip": null,
            "layout": "IPY_MODEL_c113b6890af0422295968e6d1c8555bc",
            "placeholder": "​",
            "style": "IPY_MODEL_3426a8e7046e4fa68c5c9b27ceed07ef",
            "value": " 330M/330M [00:03&lt;00:00, 114MB/s]"
          }
        },
        "446398bfffa84a23b9be1afa33b2462b": {
          "model_module": "@jupyter-widgets/base",
          "model_name": "LayoutModel",
          "model_module_version": "1.2.0",
          "state": {
            "_model_module": "@jupyter-widgets/base",
            "_model_module_version": "1.2.0",
            "_model_name": "LayoutModel",
            "_view_count": null,
            "_view_module": "@jupyter-widgets/base",
            "_view_module_version": "1.2.0",
            "_view_name": "LayoutView",
            "align_content": null,
            "align_items": null,
            "align_self": null,
            "border": null,
            "bottom": null,
            "display": null,
            "flex": null,
            "flex_flow": null,
            "grid_area": null,
            "grid_auto_columns": null,
            "grid_auto_flow": null,
            "grid_auto_rows": null,
            "grid_column": null,
            "grid_gap": null,
            "grid_row": null,
            "grid_template_areas": null,
            "grid_template_columns": null,
            "grid_template_rows": null,
            "height": null,
            "justify_content": null,
            "justify_items": null,
            "left": null,
            "margin": null,
            "max_height": null,
            "max_width": null,
            "min_height": null,
            "min_width": null,
            "object_fit": null,
            "object_position": null,
            "order": null,
            "overflow": null,
            "overflow_x": null,
            "overflow_y": null,
            "padding": null,
            "right": null,
            "top": null,
            "visibility": null,
            "width": null
          }
        },
        "b237ccaf198b4bf78d5172b1bf4df5f2": {
          "model_module": "@jupyter-widgets/base",
          "model_name": "LayoutModel",
          "model_module_version": "1.2.0",
          "state": {
            "_model_module": "@jupyter-widgets/base",
            "_model_module_version": "1.2.0",
            "_model_name": "LayoutModel",
            "_view_count": null,
            "_view_module": "@jupyter-widgets/base",
            "_view_module_version": "1.2.0",
            "_view_name": "LayoutView",
            "align_content": null,
            "align_items": null,
            "align_self": null,
            "border": null,
            "bottom": null,
            "display": null,
            "flex": null,
            "flex_flow": null,
            "grid_area": null,
            "grid_auto_columns": null,
            "grid_auto_flow": null,
            "grid_auto_rows": null,
            "grid_column": null,
            "grid_gap": null,
            "grid_row": null,
            "grid_template_areas": null,
            "grid_template_columns": null,
            "grid_template_rows": null,
            "height": null,
            "justify_content": null,
            "justify_items": null,
            "left": null,
            "margin": null,
            "max_height": null,
            "max_width": null,
            "min_height": null,
            "min_width": null,
            "object_fit": null,
            "object_position": null,
            "order": null,
            "overflow": null,
            "overflow_x": null,
            "overflow_y": null,
            "padding": null,
            "right": null,
            "top": null,
            "visibility": null,
            "width": null
          }
        },
        "2896fa60e0154e0ebcb5cae1deab45cc": {
          "model_module": "@jupyter-widgets/controls",
          "model_name": "DescriptionStyleModel",
          "model_module_version": "1.5.0",
          "state": {
            "_model_module": "@jupyter-widgets/controls",
            "_model_module_version": "1.5.0",
            "_model_name": "DescriptionStyleModel",
            "_view_count": null,
            "_view_module": "@jupyter-widgets/base",
            "_view_module_version": "1.2.0",
            "_view_name": "StyleView",
            "description_width": ""
          }
        },
        "0d2aa20139364ac0b6bb1d5446870c47": {
          "model_module": "@jupyter-widgets/base",
          "model_name": "LayoutModel",
          "model_module_version": "1.2.0",
          "state": {
            "_model_module": "@jupyter-widgets/base",
            "_model_module_version": "1.2.0",
            "_model_name": "LayoutModel",
            "_view_count": null,
            "_view_module": "@jupyter-widgets/base",
            "_view_module_version": "1.2.0",
            "_view_name": "LayoutView",
            "align_content": null,
            "align_items": null,
            "align_self": null,
            "border": null,
            "bottom": null,
            "display": null,
            "flex": null,
            "flex_flow": null,
            "grid_area": null,
            "grid_auto_columns": null,
            "grid_auto_flow": null,
            "grid_auto_rows": null,
            "grid_column": null,
            "grid_gap": null,
            "grid_row": null,
            "grid_template_areas": null,
            "grid_template_columns": null,
            "grid_template_rows": null,
            "height": null,
            "justify_content": null,
            "justify_items": null,
            "left": null,
            "margin": null,
            "max_height": null,
            "max_width": null,
            "min_height": null,
            "min_width": null,
            "object_fit": null,
            "object_position": null,
            "order": null,
            "overflow": null,
            "overflow_x": null,
            "overflow_y": null,
            "padding": null,
            "right": null,
            "top": null,
            "visibility": null,
            "width": null
          }
        },
        "256c6e46dd0f4ee1bbc004604530416a": {
          "model_module": "@jupyter-widgets/controls",
          "model_name": "ProgressStyleModel",
          "model_module_version": "1.5.0",
          "state": {
            "_model_module": "@jupyter-widgets/controls",
            "_model_module_version": "1.5.0",
            "_model_name": "ProgressStyleModel",
            "_view_count": null,
            "_view_module": "@jupyter-widgets/base",
            "_view_module_version": "1.2.0",
            "_view_name": "StyleView",
            "bar_color": null,
            "description_width": ""
          }
        },
        "c113b6890af0422295968e6d1c8555bc": {
          "model_module": "@jupyter-widgets/base",
          "model_name": "LayoutModel",
          "model_module_version": "1.2.0",
          "state": {
            "_model_module": "@jupyter-widgets/base",
            "_model_module_version": "1.2.0",
            "_model_name": "LayoutModel",
            "_view_count": null,
            "_view_module": "@jupyter-widgets/base",
            "_view_module_version": "1.2.0",
            "_view_name": "LayoutView",
            "align_content": null,
            "align_items": null,
            "align_self": null,
            "border": null,
            "bottom": null,
            "display": null,
            "flex": null,
            "flex_flow": null,
            "grid_area": null,
            "grid_auto_columns": null,
            "grid_auto_flow": null,
            "grid_auto_rows": null,
            "grid_column": null,
            "grid_gap": null,
            "grid_row": null,
            "grid_template_areas": null,
            "grid_template_columns": null,
            "grid_template_rows": null,
            "height": null,
            "justify_content": null,
            "justify_items": null,
            "left": null,
            "margin": null,
            "max_height": null,
            "max_width": null,
            "min_height": null,
            "min_width": null,
            "object_fit": null,
            "object_position": null,
            "order": null,
            "overflow": null,
            "overflow_x": null,
            "overflow_y": null,
            "padding": null,
            "right": null,
            "top": null,
            "visibility": null,
            "width": null
          }
        },
        "3426a8e7046e4fa68c5c9b27ceed07ef": {
          "model_module": "@jupyter-widgets/controls",
          "model_name": "DescriptionStyleModel",
          "model_module_version": "1.5.0",
          "state": {
            "_model_module": "@jupyter-widgets/controls",
            "_model_module_version": "1.5.0",
            "_model_name": "DescriptionStyleModel",
            "_view_count": null,
            "_view_module": "@jupyter-widgets/base",
            "_view_module_version": "1.2.0",
            "_view_name": "StyleView",
            "description_width": ""
          }
        },
        "de4ce845b7fa40548fbbf01f05df6fb5": {
          "model_module": "@jupyter-widgets/controls",
          "model_name": "HBoxModel",
          "model_module_version": "1.5.0",
          "state": {
            "_dom_classes": [],
            "_model_module": "@jupyter-widgets/controls",
            "_model_module_version": "1.5.0",
            "_model_name": "HBoxModel",
            "_view_count": null,
            "_view_module": "@jupyter-widgets/controls",
            "_view_module_version": "1.5.0",
            "_view_name": "HBoxView",
            "box_style": "",
            "children": [
              "IPY_MODEL_a8d50fa5b33f4d4da1ce8dfd3838089c",
              "IPY_MODEL_72934e98b70e4a168602f0d59dc45df8",
              "IPY_MODEL_68eb3520030b41fca1b951ef1a662725"
            ],
            "layout": "IPY_MODEL_827a2980cf204f77b6c5f0d2cf4bc214"
          }
        },
        "a8d50fa5b33f4d4da1ce8dfd3838089c": {
          "model_module": "@jupyter-widgets/controls",
          "model_name": "HTMLModel",
          "model_module_version": "1.5.0",
          "state": {
            "_dom_classes": [],
            "_model_module": "@jupyter-widgets/controls",
            "_model_module_version": "1.5.0",
            "_model_name": "HTMLModel",
            "_view_count": null,
            "_view_module": "@jupyter-widgets/controls",
            "_view_module_version": "1.5.0",
            "_view_name": "HTMLView",
            "description": "",
            "description_tooltip": null,
            "layout": "IPY_MODEL_856a3f07d2df4df1b8c9d657bf30b44a",
            "placeholder": "​",
            "style": "IPY_MODEL_44f4e1b655644b8db675b9d87e8600f7",
            "value": "100%"
          }
        },
        "72934e98b70e4a168602f0d59dc45df8": {
          "model_module": "@jupyter-widgets/controls",
          "model_name": "FloatProgressModel",
          "model_module_version": "1.5.0",
          "state": {
            "_dom_classes": [],
            "_model_module": "@jupyter-widgets/controls",
            "_model_module_version": "1.5.0",
            "_model_name": "FloatProgressModel",
            "_view_count": null,
            "_view_module": "@jupyter-widgets/controls",
            "_view_module_version": "1.5.0",
            "_view_name": "ProgressView",
            "bar_style": "success",
            "description": "",
            "description_tooltip": null,
            "layout": "IPY_MODEL_cb94f9d3ebfb42bcb7f5a261a68a5c83",
            "max": 10,
            "min": 0,
            "orientation": "horizontal",
            "style": "IPY_MODEL_7a7e79fb0faa461b98364479afcc3c2c",
            "value": 10
          }
        },
        "68eb3520030b41fca1b951ef1a662725": {
          "model_module": "@jupyter-widgets/controls",
          "model_name": "HTMLModel",
          "model_module_version": "1.5.0",
          "state": {
            "_dom_classes": [],
            "_model_module": "@jupyter-widgets/controls",
            "_model_module_version": "1.5.0",
            "_model_name": "HTMLModel",
            "_view_count": null,
            "_view_module": "@jupyter-widgets/controls",
            "_view_module_version": "1.5.0",
            "_view_name": "HTMLView",
            "description": "",
            "description_tooltip": null,
            "layout": "IPY_MODEL_88dfbf82a33d4e79b8e798c9cd64f4c2",
            "placeholder": "​",
            "style": "IPY_MODEL_42ca4d7c71a146eea13ad06a3dbf3061",
            "value": " 10/10 [59:37&lt;00:00, 196.93s/it]"
          }
        },
        "827a2980cf204f77b6c5f0d2cf4bc214": {
          "model_module": "@jupyter-widgets/base",
          "model_name": "LayoutModel",
          "model_module_version": "1.2.0",
          "state": {
            "_model_module": "@jupyter-widgets/base",
            "_model_module_version": "1.2.0",
            "_model_name": "LayoutModel",
            "_view_count": null,
            "_view_module": "@jupyter-widgets/base",
            "_view_module_version": "1.2.0",
            "_view_name": "LayoutView",
            "align_content": null,
            "align_items": null,
            "align_self": null,
            "border": null,
            "bottom": null,
            "display": null,
            "flex": null,
            "flex_flow": null,
            "grid_area": null,
            "grid_auto_columns": null,
            "grid_auto_flow": null,
            "grid_auto_rows": null,
            "grid_column": null,
            "grid_gap": null,
            "grid_row": null,
            "grid_template_areas": null,
            "grid_template_columns": null,
            "grid_template_rows": null,
            "height": null,
            "justify_content": null,
            "justify_items": null,
            "left": null,
            "margin": null,
            "max_height": null,
            "max_width": null,
            "min_height": null,
            "min_width": null,
            "object_fit": null,
            "object_position": null,
            "order": null,
            "overflow": null,
            "overflow_x": null,
            "overflow_y": null,
            "padding": null,
            "right": null,
            "top": null,
            "visibility": null,
            "width": null
          }
        },
        "856a3f07d2df4df1b8c9d657bf30b44a": {
          "model_module": "@jupyter-widgets/base",
          "model_name": "LayoutModel",
          "model_module_version": "1.2.0",
          "state": {
            "_model_module": "@jupyter-widgets/base",
            "_model_module_version": "1.2.0",
            "_model_name": "LayoutModel",
            "_view_count": null,
            "_view_module": "@jupyter-widgets/base",
            "_view_module_version": "1.2.0",
            "_view_name": "LayoutView",
            "align_content": null,
            "align_items": null,
            "align_self": null,
            "border": null,
            "bottom": null,
            "display": null,
            "flex": null,
            "flex_flow": null,
            "grid_area": null,
            "grid_auto_columns": null,
            "grid_auto_flow": null,
            "grid_auto_rows": null,
            "grid_column": null,
            "grid_gap": null,
            "grid_row": null,
            "grid_template_areas": null,
            "grid_template_columns": null,
            "grid_template_rows": null,
            "height": null,
            "justify_content": null,
            "justify_items": null,
            "left": null,
            "margin": null,
            "max_height": null,
            "max_width": null,
            "min_height": null,
            "min_width": null,
            "object_fit": null,
            "object_position": null,
            "order": null,
            "overflow": null,
            "overflow_x": null,
            "overflow_y": null,
            "padding": null,
            "right": null,
            "top": null,
            "visibility": null,
            "width": null
          }
        },
        "44f4e1b655644b8db675b9d87e8600f7": {
          "model_module": "@jupyter-widgets/controls",
          "model_name": "DescriptionStyleModel",
          "model_module_version": "1.5.0",
          "state": {
            "_model_module": "@jupyter-widgets/controls",
            "_model_module_version": "1.5.0",
            "_model_name": "DescriptionStyleModel",
            "_view_count": null,
            "_view_module": "@jupyter-widgets/base",
            "_view_module_version": "1.2.0",
            "_view_name": "StyleView",
            "description_width": ""
          }
        },
        "cb94f9d3ebfb42bcb7f5a261a68a5c83": {
          "model_module": "@jupyter-widgets/base",
          "model_name": "LayoutModel",
          "model_module_version": "1.2.0",
          "state": {
            "_model_module": "@jupyter-widgets/base",
            "_model_module_version": "1.2.0",
            "_model_name": "LayoutModel",
            "_view_count": null,
            "_view_module": "@jupyter-widgets/base",
            "_view_module_version": "1.2.0",
            "_view_name": "LayoutView",
            "align_content": null,
            "align_items": null,
            "align_self": null,
            "border": null,
            "bottom": null,
            "display": null,
            "flex": null,
            "flex_flow": null,
            "grid_area": null,
            "grid_auto_columns": null,
            "grid_auto_flow": null,
            "grid_auto_rows": null,
            "grid_column": null,
            "grid_gap": null,
            "grid_row": null,
            "grid_template_areas": null,
            "grid_template_columns": null,
            "grid_template_rows": null,
            "height": null,
            "justify_content": null,
            "justify_items": null,
            "left": null,
            "margin": null,
            "max_height": null,
            "max_width": null,
            "min_height": null,
            "min_width": null,
            "object_fit": null,
            "object_position": null,
            "order": null,
            "overflow": null,
            "overflow_x": null,
            "overflow_y": null,
            "padding": null,
            "right": null,
            "top": null,
            "visibility": null,
            "width": null
          }
        },
        "7a7e79fb0faa461b98364479afcc3c2c": {
          "model_module": "@jupyter-widgets/controls",
          "model_name": "ProgressStyleModel",
          "model_module_version": "1.5.0",
          "state": {
            "_model_module": "@jupyter-widgets/controls",
            "_model_module_version": "1.5.0",
            "_model_name": "ProgressStyleModel",
            "_view_count": null,
            "_view_module": "@jupyter-widgets/base",
            "_view_module_version": "1.2.0",
            "_view_name": "StyleView",
            "bar_color": null,
            "description_width": ""
          }
        },
        "88dfbf82a33d4e79b8e798c9cd64f4c2": {
          "model_module": "@jupyter-widgets/base",
          "model_name": "LayoutModel",
          "model_module_version": "1.2.0",
          "state": {
            "_model_module": "@jupyter-widgets/base",
            "_model_module_version": "1.2.0",
            "_model_name": "LayoutModel",
            "_view_count": null,
            "_view_module": "@jupyter-widgets/base",
            "_view_module_version": "1.2.0",
            "_view_name": "LayoutView",
            "align_content": null,
            "align_items": null,
            "align_self": null,
            "border": null,
            "bottom": null,
            "display": null,
            "flex": null,
            "flex_flow": null,
            "grid_area": null,
            "grid_auto_columns": null,
            "grid_auto_flow": null,
            "grid_auto_rows": null,
            "grid_column": null,
            "grid_gap": null,
            "grid_row": null,
            "grid_template_areas": null,
            "grid_template_columns": null,
            "grid_template_rows": null,
            "height": null,
            "justify_content": null,
            "justify_items": null,
            "left": null,
            "margin": null,
            "max_height": null,
            "max_width": null,
            "min_height": null,
            "min_width": null,
            "object_fit": null,
            "object_position": null,
            "order": null,
            "overflow": null,
            "overflow_x": null,
            "overflow_y": null,
            "padding": null,
            "right": null,
            "top": null,
            "visibility": null,
            "width": null
          }
        },
        "42ca4d7c71a146eea13ad06a3dbf3061": {
          "model_module": "@jupyter-widgets/controls",
          "model_name": "DescriptionStyleModel",
          "model_module_version": "1.5.0",
          "state": {
            "_model_module": "@jupyter-widgets/controls",
            "_model_module_version": "1.5.0",
            "_model_name": "DescriptionStyleModel",
            "_view_count": null,
            "_view_module": "@jupyter-widgets/base",
            "_view_module_version": "1.2.0",
            "_view_name": "StyleView",
            "description_width": ""
          }
        }
      }
    }
  },
  "cells": [
    {
      "cell_type": "markdown",
      "metadata": {
        "id": "view-in-github",
        "colab_type": "text"
      },
      "source": [
        "<a href=\"https://colab.research.google.com/github/telnarayanan/HuggingFaceTransformers/blob/main/ImageClassiciation_FoodImageClassification.ipynb\" target=\"_parent\"><img src=\"https://colab.research.google.com/assets/colab-badge.svg\" alt=\"Open In Colab\"/></a>"
      ]
    },
    {
      "cell_type": "code",
      "execution_count": null,
      "metadata": {
        "id": "BMsxaBXI6drD"
      },
      "outputs": [],
      "source": [
        "\"\"\"\n",
        "1. Get multiple classes of Images. (Specific to Indian Context - preferably)\n",
        "    a. Check Google search API - python for image retrieval\n",
        "        Registered with Unsplash - Image Search API\n",
        "    b. Check available public datasets.\n",
        "2. Load them into a Dataset and Dataloader (the correct format as expected by ViT)\n",
        "3. Use Pretrained Vision Transformers from Torchvision.models\n",
        "4. Make Predictions on the custom Image\n",
        "5. Plot accuracy curves\n",
        "\n",
        "\"\"\""
      ]
    },
    {
      "cell_type": "markdown",
      "source": [
        "# 0. Setup"
      ],
      "metadata": {
        "id": "oH1PY7ex-AGx"
      }
    },
    {
      "cell_type": "code",
      "source": [
        "# For this notebook to run with updated APIs, we need torch 1.12+ and torchvision 0.13+\n",
        "try:\n",
        "    import torch\n",
        "    import torchvision\n",
        "    assert int(torch.__version__.split(\".\")[1]) >= 12, \"torch version should be 1.12+\"\n",
        "    assert int(torchvision.__version__.split(\".\")[1]) >= 13, \"torchvision version should be 0.13+\"\n",
        "    print(f\"torch version: {torch.__version__}\")\n",
        "    print(f\"torchvision version: {torchvision.__version__}\")\n",
        "except:\n",
        "    print(f\"[INFO] torch/torchvision versions not as required, installing nightly versions.\")\n",
        "    !pip3 install -U torch torchvision torchaudio --extra-index-url https://download.pytorch.org/whl/cu113\n",
        "    import torch\n",
        "    import torchvision\n",
        "    print(f\"torch version: {torch.__version__}\")\n",
        "    print(f\"torchvision version: {torchvision.__version__}\")"
      ],
      "metadata": {
        "colab": {
          "base_uri": "https://localhost:8080/"
        },
        "id": "adpJxfHK_AXA",
        "outputId": "29fabb82-8be9-4bfb-da44-906db006a31b"
      },
      "execution_count": 1,
      "outputs": [
        {
          "output_type": "stream",
          "name": "stdout",
          "text": [
            "torch version: 1.12.1+cu113\n",
            "torchvision version: 0.13.1+cu113\n"
          ]
        }
      ]
    },
    {
      "cell_type": "code",
      "source": [
        "# Continue with regular imports\n",
        "import matplotlib.pyplot as plt\n",
        "import torch\n",
        "import torchvision\n",
        "\n",
        "from torch import nn\n",
        "from torchvision import transforms\n",
        "\n",
        "# Try to get torchinfo, install it if it doesn't work\n",
        "try:\n",
        "    from torchinfo import summary\n",
        "except:\n",
        "    print(\"[INFO] Couldn't find torchinfo... installing it.\")\n",
        "    !pip install -q torchinfo\n",
        "    from torchinfo import summary\n",
        "\n",
        "# Try to import the going_modular directory, download it from GitHub if it doesn't work\n",
        "try:\n",
        "    from going_modular.going_modular import data_setup, engine\n",
        "    from helper_functions import download_data, set_seeds, plot_loss_curves\n",
        "except:\n",
        "    # Get the going_modular scripts\n",
        "    print(\"[INFO] Couldn't find going_modular or helper_functions scripts... downloading them from GitHub.\")\n",
        "    !git clone https://github.com/mrdbourke/pytorch-deep-learning\n",
        "    !mv pytorch-deep-learning/going_modular .\n",
        "    !mv pytorch-deep-learning/helper_functions.py . # get the helper_functions.py script\n",
        "    !rm -rf pytorch-deep-learning\n",
        "    from going_modular.going_modular import data_setup, engine\n",
        "    from helper_functions import download_data, set_seeds, plot_loss_curves"
      ],
      "metadata": {
        "colab": {
          "base_uri": "https://localhost:8080/"
        },
        "id": "SCnssuxp_9eO",
        "outputId": "860544e5-8aba-4fe1-ff57-6dd5616259ee"
      },
      "execution_count": 2,
      "outputs": [
        {
          "output_type": "stream",
          "name": "stdout",
          "text": [
            "[INFO] Couldn't find torchinfo... installing it.\n",
            "[INFO] Couldn't find going_modular or helper_functions scripts... downloading them from GitHub.\n",
            "Cloning into 'pytorch-deep-learning'...\n",
            "remote: Enumerating objects: 3097, done.\u001b[K\n",
            "remote: Counting objects: 100% (30/30), done.\u001b[K\n",
            "remote: Compressing objects: 100% (21/21), done.\u001b[K\n",
            "remote: Total 3097 (delta 9), reused 25 (delta 8), pack-reused 3067\u001b[K\n",
            "Receiving objects: 100% (3097/3097), 639.56 MiB | 17.85 MiB/s, done.\n",
            "Resolving deltas: 100% (1761/1761), done.\n",
            "Checking out files: 100% (218/218), done.\n"
          ]
        }
      ]
    },
    {
      "cell_type": "markdown",
      "source": [
        "#1. Get Data"
      ],
      "metadata": {
        "id": "kaFriUDk-Cvf"
      }
    },
    {
      "cell_type": "code",
      "source": [
        "from google.colab import drive\n",
        "drive.mount('/content/drive')"
      ],
      "metadata": {
        "colab": {
          "base_uri": "https://localhost:8080/"
        },
        "id": "UUo6HrJR_GOb",
        "outputId": "dadcc4c0-d900-41b7-b96d-8071958ddca3"
      },
      "execution_count": 3,
      "outputs": [
        {
          "output_type": "stream",
          "name": "stdout",
          "text": [
            "Mounted at /content/drive\n"
          ]
        }
      ]
    },
    {
      "cell_type": "code",
      "source": [
        "# Verify Data\n",
        "from torch.utils.data import DataLoader, Dataset\n",
        "import torchvision.transforms as T\n",
        "import torch\n",
        "import torch.nn as nn\n",
        "from torchvision.utils import make_grid\n",
        "from torchvision.utils import save_image\n",
        "from IPython.display import Image\n",
        "import matplotlib.pyplot as plt\n",
        "import numpy as np\n",
        "import random\n",
        "%matplotlib inline"
      ],
      "metadata": {
        "id": "E9G0hm-t_LeT"
      },
      "execution_count": 4,
      "outputs": []
    },
    {
      "cell_type": "code",
      "source": [
        "from os import walk\n",
        "# Insert the correct path in the str\n",
        "for (dirpath, dirnames, filenames) in walk(\"/content/drive/My Drive/Data/FoodDataset/FoodDataset/\"):\n",
        "    print(\"Directory path: \", dirpath)\n",
        "    print(\"Folder name: \", dirnames)\n",
        "    print(\"File name: \", filenames)"
      ],
      "metadata": {
        "colab": {
          "base_uri": "https://localhost:8080/"
        },
        "id": "EX2GsZKZ_NWv",
        "outputId": "44fb8c70-9c7d-47d5-bb6c-728b6d27fca2"
      },
      "execution_count": 5,
      "outputs": [
        {
          "output_type": "stream",
          "name": "stdout",
          "text": [
            "Directory path:  /content/drive/My Drive/Data/FoodDataset/FoodDataset/\n",
            "Folder name:  ['dataset', 'test', 'Model']\n",
            "File name:  []\n",
            "Directory path:  /content/drive/My Drive/Data/FoodDataset/FoodDataset/dataset\n",
            "Folder name:  ['Dataset']\n",
            "File name:  []\n",
            "Directory path:  /content/drive/My Drive/Data/FoodDataset/FoodDataset/dataset/Dataset\n",
            "Folder name:  ['val', 'train']\n",
            "File name:  []\n",
            "Directory path:  /content/drive/My Drive/Data/FoodDataset/FoodDataset/dataset/Dataset/val\n",
            "Folder name:  ['samosa', 'pizza', 'pav_bhaji', 'pakode', 'paani_puri', 'idli', 'kadai_paneer', 'momos', 'kaathi_rolls', 'jalebi', 'kulfi', 'masala_dosa', 'fried_rice', 'dal_makhani', 'dhokla', 'chole_bhature', 'chapati', 'chai', 'butter_naan', 'burger']\n",
            "File name:  []\n",
            "Directory path:  /content/drive/My Drive/Data/FoodDataset/FoodDataset/dataset/Dataset/val/samosa\n",
            "Folder name:  []\n",
            "File name:  ['018.jpg', '085.jpg', '019.jpg', '091.jpg', '051.jpg', '157.jpg', '031.jpg', '153.jpg', '104.jpg', '068.jpg', '141.jpg', '116.jpg', '094.jpg', '017.jpg', '064.jpg', '004.jpg', '044.jpg', '005.jpg', '080.jpg', '158.jpg', '052.jpg', '027.jpg', '081.jpg', '014.jpg', '073.jpg', '012.jpg', '174.jpg', '189.jpg', '205.jpg', '235.jpg', '204.jpg', '219.jpg', '188.jpg', '177.jpg', '193.jpg', '233.jpg', '173.jpg', '199.jpg', '215.jpg', '192.jpg', '231.jpg', '170.jpg', '216.jpg', '197.jpg', '218.jpg', '164.jpg', '236.jpg', '168.jpg', '245.jpg', '242.jpg', '254.jpg']\n",
            "Directory path:  /content/drive/My Drive/Data/FoodDataset/FoodDataset/dataset/Dataset/val/pizza\n",
            "Folder name:  []\n",
            "File name:  ['031.jpg', '019.jpg', '012.jpg', '005.jpg', '017.jpg', '004.jpg', '027.jpg', '014.jpg', '044.jpg', '052.jpg', '157.jpg', '073.jpg', '105.jpg', '104.jpg', '064.jpg', '204.jpg', '118.jpg', '206.jpg', '116.jpg', '170.jpg', '081.jpg', '168.jpg', '051.jpg', '141.jpg', '068.jpg', '153.jpg', '164.jpg', '199.jpg', '177.jpg', '091.jpg', '193.jpg', '159.jpg', '185.jpg', '192.jpg', '086.jpg', '174.jpg', '173.jpg', '155.jpg', '205.jpg', '171.jpg', '135.jpg', '146.jpg', '148.jpg', '189.jpg', '163.jpg', '094.jpg', '080.jpg', '197.jpg', '233.jpg', '244.jpg', '219.jpg', '214.jpg', '223.jpg', '236.jpg', '234.jpg', '218.jpg', '242.jpg', '228.jpg', '215.jpg', '235.jpg']\n",
            "Directory path:  /content/drive/My Drive/Data/FoodDataset/FoodDataset/dataset/Dataset/val/pav_bhaji\n",
            "Folder name:  []\n",
            "File name:  ['007.jpg', '010.jpg', '009.jpg', '013.jpg', '207.jpg', '026.jpg', '035.jpg', '226.jpg', '031.jpg', '024.jpg', '187.jpg', '169.jpg', '222.jpg', '091.jpg', '095.jpg', '130.jpg', '023.jpg', '067.jpg', '088.jpg', '174.jpg', '162.jpg', '022.jpg', '037.jpg', '232.jpg', '165.jpg', '118.jpg', '077.jpg', '028.jpg', '234.jpg', '146.jpg', '148.jpg', '018.jpg', '029.jpg', '041.jpg', '089.jpg', '158.jpg', '132.jpg', '056.jpg', '221.jpg', '347.jpg', '270.jpg', '350.jpg', '287.jpg', '281.jpg', '304.jpg', '336.jpg', '310.jpg', '250.jpg', '321.jpg', '296.jpg', '343.jpg', '236.jpg', '308.jpg', '292.jpg', '326.jpg', '254.jpg', '345.jpg', '271.jpg', '314.jpg', '274.jpg', '268.jpg']\n",
            "Directory path:  /content/drive/My Drive/Data/FoodDataset/FoodDataset/dataset/Dataset/val/pakode\n",
            "Folder name:  []\n",
            "File name:  ['018.jpg', '136.jpg', '079.jpg', '135.jpg', '105.jpg', '052.jpg', '068.jpg', '055.jpg', '027.jpg', '004.jpg', '116.jpg', '014.jpg', '111.jpg', '086.jpg', '059.jpg', '061.jpg', '073.jpg', '051.jpg', '047.jpg', '010.jpg', '019.jpg', '141.jpg', '005.jpg', '012.jpg', '166.jpg', '192.jpg', '174.jpg', '250.jpg', '254.jpg', '274.jpg', '211.jpg', '159.jpg', '266.jpg', '234.jpg', '233.jpg', '223.jpg', '168.jpg', '147.jpg', '181.jpg', '270.jpg', '173.jpg', '245.jpg', '186.jpg', '252.jpg', '157.jpg', '148.jpg', '146.jpg', '218.jpg', '199.jpg', '203.jpg', '239.jpg', '201.jpg', '163.jpg', '206.jpg', '219.jpg', '177.jpg', '246.jpg', '164.jpg', '143.jpg']\n",
            "Directory path:  /content/drive/My Drive/Data/FoodDataset/FoodDataset/dataset/Dataset/val/paani_puri\n",
            "Folder name:  []\n",
            "File name:  ['047.jpg', '022.jpg', '014.jpg', '032.jpg', '045.jpg', '003.jpg', '016.jpg', '040.jpg', '009.jpg', '046.jpg', '041.jpg', '065.jpg', '106.jpg', '122.jpg', '059.jpg', '052.jpg', '120.jpg', '085.jpg', '124.jpg', '051.jpg', '086.jpg', '118.jpg', '110.jpg', '102.jpg', '128.jpg', '095.jpg', '111.jpg', '055.jpg', '126.jpg']\n",
            "Directory path:  /content/drive/My Drive/Data/FoodDataset/FoodDataset/dataset/Dataset/val/idli\n",
            "Folder name:  []\n",
            "File name:  ['016.jpg', '007.jpg', '018.jpg', '014.JPG', '009.jpg', '117.jpg', '056.jpg', '024.jpg', '081.jpg', '068.jpg', '026.jpg', '021.jpg', '158.jpg', '143.jpg', '035.jpg', '050.jpg', '093.jpg', '101.jpg', '171.jpg', '066.jpg', '134.jpg', '054.jpg', '146.jpg', '125.jpg', '118.jpg', '139.jpg', '023.jpg', '091.jpg', '095.jpg', '028.jpg', '168.jpg', '113.jpg', '110.jpg', '044.jpg', '166.jpg', '037.jpg', '065.jpg', '193.jpg', '265.jpg', '272.jpg', '269.jpg', '302.jpg', '285.jpg', '299.jpg', '209.jpg', '239.jpg', '295.jpg', '270.jpg', '293.jpg', '236.jpg', '182.jpg', '283.jpg', '179.jpg', '222.jpg', '244.jpg', '192.jpg', '232.jpg', '271.jpg', '210.jpg', '288.jpg', '214.jpg', '189.jpg', '296.jpg', '205.jpg', '305.jpg', '231.jpg', '252.jpg']\n",
            "Directory path:  /content/drive/My Drive/Data/FoodDataset/FoodDataset/dataset/Dataset/val/kadai_paneer\n",
            "Folder name:  []\n",
            "File name:  ['007.jpg', '132.jpg', '099.jpg', '095.jpg', '028.jpg', '029.jpg', '041.jpg', '207.jpg', '136.jpg', '219.jpg', '148.jpg', '023.jpg', '130.jpg', '135.jpg', '101.jpg', '146.jpg', '010.jpg', '221.jpg', '162.jpg', '118.jpg', '061.jpg', '067.jpg', '054.jpg', '209.jpg', '022.jpg', '080.jpg', '093.jpg', '026.jpg', '181.jpg', '222.jpg', '103.jpg', '024.jpg', '035.jpg', '105.jpg', '009.jpg', '314.jpg', '347.jpg', '286.jpg', '300.jpg', '362.jpg', '309.jpg', '268.jpg', '352.jpg', '335.jpg', '254.jpg', '310.jpg', '226.jpg', '395.jpg', '371.jpg', '270.jpg', '296.jpg', '284.jpg', '399.jpg', '282.jpg', '349.jpg', '271.jpg', '348.jpg', '235.jpg', '360.jpg', '342.jpg', '384.jpg', '318.jpg', '232.jpg', '377.jpg', '343.jpg', '327.jpg', '370.jpg', '364.jpg', '354.jpg', '285.jpg', '237.jpg', '292.jpg', '346.jpg', '278.jpg', '408.jpg', '403.jpg', '412.jpg', '401.jpg']\n",
            "Directory path:  /content/drive/My Drive/Data/FoodDataset/FoodDataset/dataset/Dataset/val/momos\n",
            "Folder name:  []\n",
            "File name:  ['015.jpg', '021.jpg', '090.jpg', '101.jpg', '074.jpg', '065.jpg', '010.jpg', '018.jpg', '050.jpg', '142.jpg', '040.jpg', '110.jpg', '028.jpg', '093.jpg', '023.jpg', '132.jpg', '054.jpg', '136.jpg', '011.jpg', '044.jpg', '139.jpg', '007.jpg', '061.jpg', '014.jpg', '135.jpg', '039.jpg', '009.jpg', '111.jpg', '118.jpg', '024.jpg', '026.jpg', '119.jpg', '013.jpg', '095.jpg', '016.jpg', '113.jpg', '037.jpg', '035.jpg', '243.jpg', '209.jpg', '207.jpg', '270.jpg', '266.jpg', '190.jpg', '281.jpg', '254.jpg', '303.jpg', '278.jpg', '156.jpg', '182.jpg', '225.jpg', '279.jpg', '310.jpg', '184.jpg', '146.jpg', '235.jpg', '163.jpg', '232.jpg', '171.jpg', '210.jpg', '226.jpg', '234.jpg', '214.jpg', '291.jpg', '296.jpg', '185.jpg', '222.jpg', '313.jpg']\n",
            "Directory path:  /content/drive/My Drive/Data/FoodDataset/FoodDataset/dataset/Dataset/val/kaathi_rolls\n",
            "Folder name:  []\n",
            "File name:  ['073.jpg', '037.jpg', '134.jpg', '004.jpg', '051.jpg', '054.jpg', '125.jpg', '007.jpg', '079.jpg', '048.jpg', '056.jpg', '009.jpg', '101.jpg', '136.jpg', '111.jpg', '135.jpg', '012.jpg', '059.jpg', '139.jpg', '086.jpg', '028.jpg', '013.jpg', '010.jpg', '055.jpg', '116.jpg', '047.jpg', '023.jpg', '235.jpg', '267.jpg', '193.jpg', '188.jpg', '209.jpg', '271.jpg', '240.jpg', '258.jpg', '141.jpg', '266.jpg', '244.jpg', '146.jpg', '157.jpg', '189.jpg', '205.jpg', '199.jpg', '168.jpg', '147.jpg', '282.jpg', '226.jpg', '229.jpg', '166.jpg', '270.jpg', '186.jpg', '277.jpg', '171.jpg', '143.jpg', '192.jpg', '204.jpg', '281.jpg', '150.jpg', '276.jpg', '170.jpg', '273.jpg']\n",
            "Directory path:  /content/drive/My Drive/Data/FoodDataset/FoodDataset/dataset/Dataset/val/jalebi\n",
            "Folder name:  []\n",
            "File name:  ['012.jpg', '047.jpg', '007.jpg', '028.JPG', '048.jpg', '004.jpg', '009.jpg', '054.jpg', '010.jpg', '023.jpg', '037.jpg', '013.jpg', '240.jpg', '141.jpg', '134.jpg', '229.jpg', '168.jpg', '081.jpg', '150.jpg', '189.jpg', '233.jpg', '201.jpg', '086.jpg', '204.jpg', '055.jpg', '079.jpg', '091.jpg', '258.jpg', '125.jpg', '209.jpg', '205.jpg', '135.jpg', '147.jpg', '171.jpg', '117.jpg', '218.jpg', '157.jpg', '239.jpg', '139.jpg', '193.jpg', '247.jpg', '101.jpg', '192.jpg', '203.jpg', '199.jpg', '166.jpg', '186.jpg', '170.jpg', '111.jpg', '143.jpg', '061.jpg', '185.jpg', '232.jpg', '105.jpg', '059.jpg', '287.jpg', '284.jpg', '276.jpg', '273.jpg', '269.jpg', '288.jpg', '270.jpg', '285.jpg', '260.jpg', '279.jpg', '280.jpg']\n",
            "Directory path:  /content/drive/My Drive/Data/FoodDataset/FoodDataset/dataset/Dataset/val/kulfi\n",
            "Folder name:  []\n",
            "File name:  ['130.jpg', '027.jpg', '150.jpg', '068.jpg', '031.jpg', '018.jpg', '090.jpg', '053.jpg', '153.jpg', '099.jpg', '172.jpg', '118.jpg', '019.jpg', '168.jpg', '017.jpg', '012.jpg', '163.jpg', '155.jpg', '080.jpg', '148.jpg', '091.jpg', '103.jpg', '135.jpg', '073.jpg', '052.jpg', '104.jpg', '014.jpg', '105.jpg', '044.jpg', '064.jpg', '028.jpg', '005.jpg', '170.jpg', '217.jpg', '196.jpg', '201.jpg', '228.jpg', '225.jpg', '234.jpg', '237.jpg', '174.jpg', '177.jpg', '220.jpg', '203.jpg', '188.jpg', '181.jpg', '205.jpg', '173.jpg', '190.jpg']\n",
            "Directory path:  /content/drive/My Drive/Data/FoodDataset/FoodDataset/dataset/Dataset/val/masala_dosa\n",
            "Folder name:  []\n",
            "File name:  ['021.jpg', '028.jpg', '044.jpg', '068.jpg', '037.jpg', '009.jpg', '018.jpg', '026.jpg', '101.jpg', '125.jpg', '014.jpg', '113.jpg', '056.jpg', '081.jpg', '016.jpg', '139.jpg', '007.jpg', '054.jpg', '093.jpg', '117.jpg', '095.jpg', '065.jpg', '134.jpg', '103.jpg', '091.jpg', '142.jpg', '185.jpg', '296.jpg', '308.jpg', '297.jpg', '171.jpg', '293.jpg', '279.jpg', '309.jpg', '150.jpg', '306.jpg', '143.jpg', '254.jpg', '158.jpg', '272.jpg', '193.jpg', '256.jpg', '205.jpg', '222.jpg', '284.jpg', '210.jpg', '161.jpg', '310.jpg', '245.jpg', '250.jpg', '270.jpg', '303.jpg', '166.jpg', '235.jpg', '231.jpg', '292.jpg', '311.jpg', '182.jpg', '266.jpg', '146.jpg']\n",
            "Directory path:  /content/drive/My Drive/Data/FoodDataset/FoodDataset/dataset/Dataset/val/fried_rice\n",
            "Folder name:  []\n",
            "File name:  ['022.jpg', '023.jpg', '009.jpg', '026.jpg', '024.jpeg', '010.jpeg', '007.jpg', '018.jpg', '013.jpg', '028.jpg', '077.jpg', '099.jpg', '080.jpg', '103.jpg', '118.jpg', '237.jpg', '054.jpg', '162.jpg', '222.jpg', '031.jpg', '187.jpg', '178.jpg', '232.jpg', '101.jpg', '037.jpg', '146.jpg', '174.jpg', '035.jpg', '136.jpg', '205.jpg', '088.jpg', '226.jpg', '209.jpg', '098.jpg', '135.jpg', '169.jpg', '234.jpg', '091.jpg', '095.jpg', '067.jpg', '148.jpg', '110.jpg', '132.jpg', '093.jpg', '041.jpg', '165.jpg', '207.jpg', '130.jpg', '029.jpg', '307.jpg', '281.jpg', '271.jpg', '345.jpg', '316.jpg', '285.jpg', '270.jpg', '254.jpg', '259.jpg', '250.jpg', '329.jpg', '315.jpg', '322.jpg', '292.jpg', '308.jpg', '278.jpg', '296.jpg', '300.jpg', '282.jpg', '306.jpg', '334.jpg', '352.jpg', '317.jpg']\n",
            "Directory path:  /content/drive/My Drive/Data/FoodDataset/FoodDataset/dataset/Dataset/val/dal_makhani\n",
            "Folder name:  []\n",
            "File name:  ['040.jpg', '050.jpg', '028.jpg', '039.jpg', '035.jpg', '011.jpg', '081.jpg', '024.jpg', '090.jpg', '021.jpg', '065.jpg', '067.jpg', '034.jpg', '037.jpg', '016.jpg', '074.jpg', '009.jpg', '015.jpg', '007.jpg', '023.jpg', '013.jpg', '044.jpg', '014.jpg', '026.jpg', '250.jpg', '163.jpg', '233.jpg', '225.jpg', '243.jpg', '184.jpg', '280.jpg', '156.jpg', '113.jpg', '222.jpg', '190.jpg', '142.jpg', '132.jpg', '093.jpg', '210.jpg', '146.jpg', '119.jpg', '127.jpg', '118.jpg', '187.jpg', '232.jpg', '111.jpg', '226.jpg', '270.jpg', '214.jpg', '254.jpg', '095.jpg', '135.jpg', '101.jpg', '171.jpg', '139.jpg', '244.jpg', '276.jpg', '268.jpg', '103.jpg', '205.jpg', '209.jpg', '281.jpg', '315.jpg', '312.jpg', '318.jpg', '298.jpg', '288.jpg']\n",
            "Directory path:  /content/drive/My Drive/Data/FoodDataset/FoodDataset/dataset/Dataset/val/dhokla\n",
            "Folder name:  []\n",
            "File name:  ['079.jpg', '168.jpg', '055.jpg', '135.jpg', '088.jpg', '004.jpg', '059.jpg', '048.jpg', '023.jpg', '012.jpg', '117.jpg', '116.jpg', '134.jpg', '157.jpg', '147.jpg', '139.jpg', '081.jpg', '027.jpg', '150.jpg', '007.jpg', '037.jpg', '047.jpg', '085.jpg', '005.jpg', '028.jpg', '013.jpg', '086.jpg', '051.jpg', '125.jpg', '073.jpg', '010.jpg', '143.jpg', '259.jpg', '263.jpg', '222.jpg', '218.jpg', '269.jpg', '204.jpg', '192.jpg', '170.jpg', '189.jpg', '193.jpg', '179.jpg', '186.jpg', '203.jpg', '277.jpg', '272.jpg', '252.jpg', '262.jpg', '199.jpg', '209.jpg', '278.jpg', '188.jpg', '235.jpg', '246.jpg']\n",
            "Directory path:  /content/drive/My Drive/Data/FoodDataset/FoodDataset/dataset/Dataset/val/chole_bhature\n",
            "Folder name:  []\n",
            "File name:  ['026.jpg', '041.jpg', '110.jpg', '037.jpg', '085.jpg', '226.jpg', '067.jpg', '162.jpg', '136.jpg', '135.jpg', '023.jpg', '093.jpg', '101.jpg', '031.jpg', '035.jpg', '103.jpg', '219.jpg', '132.jpg', '007.jpg', '222.jpg', '146.jpg', '221.jpg', '077.jpg', '029.jpg', '160.jpg', '209.jpg', '028.jpg', '205.jpg', '024.jpg', '054.jpg', '022.jpg', '010.jpg', '013.jpg', '099.jpg', '130.jpg', '118.jpg', '178.jpg', '148.jpg', '305.jpg', '250.jpg', '278.jpg', '237.jpg', '270.jpg', '281.jpg', '232.jpg', '285.jpg', '284.jpg', '335.jpg', '314.jpg', '299.jpg', '354.jpg', '318.jpg', '310.jpg', '348.jpg', '313.jpg', '271.jpg', '286.jpg', '234.jpg', '347.jpg', '296.jpg', '254.jpg', '358.jpg', '282.jpg', '277.jpg', '346.jpg', '327.jpg', '351.jpg', '292.jpg', '341.jpg', '376.jpg', '407.jpg', '398.jpg', '397.jpg', '361.jpg', '371.jpg', '359.jpg', '370.jpg', '383.jpg', '389.jpg', '378.jpg', '369.jpg', '411.jpg', '402.jpg']\n",
            "Directory path:  /content/drive/My Drive/Data/FoodDataset/FoodDataset/dataset/Dataset/val/chapati\n",
            "Folder name:  []\n",
            "File name:  ['037.jpg', '026.jpg', '181.jpg', '054.jpg', '221.jpg', '209.jpg', '041.jpg', '101.jpg', '099.jpg', '222.jpg', '031.jpg', '023.jpg', '105.jpg', '024.jpg', '103.jpg', '085.jpg', '219.jpg', '022.jpg', '010.jpg', '162.jpg', '201.jpg', '148.jpg', '205.jpg', '080.jpg', '009.jpg', '146.jpg', '135.jpg', '136.jpg', '029.jpg', '284.jpg', '363.jpg', '358.jpg', '282.jpg', '250.jpg', '237.jpg', '254.jpg', '313.jpg', '317.jpg', '226.jpg', '318.jpg', '232.jpg', '235.jpg', '413.jpg', '310.jpg', '270.jpg', '292.jpg', '385.jpg', '277.jpg', '309.jpg', '373.jpg', '400.jpg', '362.jpg', '353.jpg', '340.jpg', '296.jpg', '331.jpg', '281.jpg', '391.jpg', '268.jpg', '371.jpg', '382.jpg', '375.jpg', '348.jpg', '346.jpg', '278.jpg', '234.jpg', '314.jpg', '286.jpg', '271.jpg']\n",
            "Directory path:  /content/drive/My Drive/Data/FoodDataset/FoodDataset/dataset/Dataset/val/chai\n",
            "Folder name:  []\n",
            "File name:  ['037.jpg', '010.jpg', '035.jpg', '028.jpg', '007.jpg', '022.jpg', '036.jpg', '013.jpg', '024.jpg', '009.jpg', '031.jpg', '029.jpg', '023.jpg', '026.jpg', '209.jpg', '234.jpg', '313.jpg', '219.jpg', '130.jpg', '054.jpg', '077.jpg', '292.jpg', '232.jpg', '286.jpg', '325.jpg', '318.jpg', '281.jpg', '254.jpg', '207.jpg', '226.jpg', '148.jpg', '340.jpg', '237.jpg', '103.jpg', '328.jpg', '118.jpg', '278.jpg', '041.jpg', '061.jpg', '132.jpg', '250.jpg', '067.jpg', '310.jpg', '095.jpg', '187.jpg', '285.jpg', '162.jpg', '299.jpg', '235.jpg', '195.jpg', '093.jpg', '268.jpg', '270.jpg', '274.jpg', '136.jpg', '364.jpg', '373.jpg', '344.jpg', '384.jpg', '361.jpg', '381.jpg', '356.jpg', '382.jpg', '345.jpg', '383.jpg', '365.jpg', '369.jpg']\n",
            "Directory path:  /content/drive/My Drive/Data/FoodDataset/FoodDataset/dataset/Dataset/val/butter_naan\n",
            "Folder name:  []\n",
            "File name:  ['009.jpg', '007.jpg', '010.jpg', '093.jpg', '118.jpg', '054.jpg', '113.jpg', '135.jpg', '209.jpg', '158.jpg', '146.jpg', '024.JPG', '028.jpg', '031.jpg', '065.jpg', '184.jpg', '110.jpg', '013.jpg', '139.jpg', '225.jpg', '085.jpg', '090.jpg', '163.jpg', '185.jpg', '214.jpg', '011.jpg', '015.jpg', '161.jpg', '190.jpg', '039.jpg', '111.jpg', '187.jpg', '026.jpg', '041.jpg', '119.jpg', '037.jpg', '101.jpg', '014.jpg', '162.jpg', '233.jpg', '156.jpg', '074.jpg', '035.jpg', '232.jpg', '323.jpg', '293.jpg', '273.jpg', '287.jpg', '236.jpg', '288.jpg', '301.jpg', '239.jpg', '320.jpg', '275.jpg', '306.jpg', '244.jpg', '294.jpg', '325.jpg', '270.jpg', '317.jpg', '234.jpg']\n",
            "Directory path:  /content/drive/My Drive/Data/FoodDataset/FoodDataset/dataset/Dataset/val/burger\n",
            "Folder name:  []\n",
            "File name:  ['010.jpg', '009.jpg', '016.jpg', '018.jpg', '013.jpg', '007.jpg', '044.jpg', '118.jpg', '023.jpg', '113.jpg', '085.jpg', '028.jpg', '091.jpg', '066.jpg', '054.jpg', '150.jpg', '105.jpg', '093.jpg', '143.jpg', '095.jpg', '139.jpg', '024.jpg', '050.jpg', '110.jpg', '117.jpg', '101.jpg', '125.jpg', '081.jpg', '161.jpg', '021.jpg', '065.jpg', '068.jpg', '134.jpg', '037.jpg', '168.jpg', '249.jpg', '222.jpg', '192.jpg', '236.jpg', '209.jpg', '170.jpg', '210.jpg', '270.jpg', '232.jpg', '207.jpg', '284.jpg', '287.jpg', '304.jpg', '189.jpg', '241.jpg', '166.jpg', '290.jpg', '271.jpg', '182.jpg', '295.jpg', '301.jpg', '199.jpg', '185.jpg', '193.jpg', '277.jpg', '294.jpg', '293.jpg', '214.jpg', '268.jpg', '298.jpg', '264.jpg', '282.jpg']\n",
            "Directory path:  /content/drive/My Drive/Data/FoodDataset/FoodDataset/dataset/Dataset/train\n",
            "Folder name:  ['pav_bhaji', 'pakode', 'pizza', 'momos', 'samosa', 'paani_puri', 'kulfi', 'masala_dosa', 'kadai_paneer', 'chapati', 'dal_makhani', 'fried_rice', 'idli', 'chole_bhature', 'jalebi', 'dhokla', 'kaathi_rolls', 'butter_naan', 'chai', 'burger']\n",
            "File name:  []\n",
            "Directory path:  /content/drive/My Drive/Data/FoodDataset/FoodDataset/dataset/Dataset/train/pav_bhaji\n",
            "Folder name:  []\n",
            "File name:  ['025.jpg', '027.jpg', '034.jpg', '032.jpg', '036.jpg', '045.jpg', '017.jpg', '046.jpg', '014.jpg', '011.jpg', '040.jpg', '038.jpg', '002.jpg', '050.jpg', '039.jpg', '012.jpg', '001.jpg', '008.jpg', '030.jpg', '006.jpg', '044.jpg', '020.jpg', '015.jpg', '047.jpg', '003.jpg', '016.jpg', '043.jpg', '049.jpg', '004.jpg', '033.jpg', '021.jpg', '042.jpg', '048.jpg', '005.jpg', '069.jpg', '096.jpg', '104.jpg', '051.jpg', '066.jpg', '070.jpg', '063.jpg', '076.jpg', '072.jpg', '060.jpg', '062.jpg', '097.jpg', '053.jpg', '090.jpg', '078.jpg', '059.jpg', '081.jpg', '092.jpg', '058.jpg', '085.jpg', '071.jpg', '094.jpg', '064.jpg', '082.jpg', '061.jpg', '079.jpg', '057.jpg', '087.jpg', '073.jpg', '052.jpg', '068.jpg', '100.jpg', '105.jpg', '074.jpg', '086.jpg', '065.jpg', '127.jpg', '111.jpg', '126.jpg', '156.jpg', '149.jpg', '143.jpg', '134.jpg', '145.jpg', '109.jpg', '154.jpg', '131.jpg', '117.jpg', '123.jpg', '142.jpg', '128.jpg', '108.jpg', '115.jpg', '129.jpg', '152.jpg', '137.jpg', '124.jpg', '122.jpg', '106.jpg', '119.jpg', '114.jpg', '153.jpg', '112.jpg', '157.jpg', '147.jpg', '141.jpg', '144.jpg', '150.jpg', '121.jpg', '166.jpg', '189.jpg', '198.jpg', '178.jpg', '194.jpg', '177.jpg', '170.jpg', '195.jpg', '168.jpg', '161.jpg', '172.jpg', '210.jpg', '193.jpg', '164.jpg', '160.jpg', '183.jpg', '212.jpg', '192.jpg', '205.jpg', '191.jpg', '214.jpg', '184.jpg', '216.jpg', '213.jpg', '215.jpg', '181.jpg', '204.jpg', '180.jpg', '200.jpg', '188.jpg', '196.jpg', '206.jpg', '185.jpg', '208.jpg', '197.jpg', '159.jpg', '179.jpg', '175.jpg', '190.jpg', '223.jpg', '301.jpg', '275.jpg', '277.jpg', '240.jpg', '230.jpg', '263.jpg', '295.jpg', '261.jpg', '280.jpg', '255.jpg', '299.jpg', '290.jpg', '253.jpg', '269.jpg', '227.jpg', '228.jpg', '248.jpg', '278.jpg', '233.jpg', '252.jpg', '300.jpg', '231.jpg', '258.jpg', '249.jpg', '273.jpg', '235.jpg', '297.jpg', '265.jpg', '257.jpg', '279.jpg', '247.jpg', '218.jpg', '288.jpg', '256.jpg', '276.jpg', '272.jpg', '229.jpg', '264.jpg', '284.jpg', '259.jpg', '217.jpg', '318.jpg', '341.jpg', '312.jpg', '302.jpg', '339.jpg', '351.jpg', '307.jpg', '325.jpg', '334.jpg', '323.jpg', '331.jpg', '353.jpg', '346.jpg', '303.jpg', '330.jpg', '337.jpg', '348.jpg', '324.jpg', '316.jpg', '305.jpg', '333.jpg', '328.jpg', '352.jpg', '349.jpg', '344.jpg', '335.jpg']\n",
            "Directory path:  /content/drive/My Drive/Data/FoodDataset/FoodDataset/dataset/Dataset/train/pakode\n",
            "Folder name:  []\n",
            "File name:  ['008.jpg', '006.jpg', '011.jpg', '001.jpg', '015.jpg', '003.jpg', '007.jpg', '002.jpg', '013.jpg', '069.jpg', '044.jpg', '065.jpg', '021.jpg', '058.jpg', '045.jpg', '056.jpg', '075.jpg', '076.jpg', '023.jpg', '024.jpg', '016.jpg', '040.jpg', '042.jpg', '043.jpg', '046.jpg', '028.jpg', '071.jpg', '022.jpg', '017.jpg', '050.jpg', '053.jpg', '033.jpg', '072.jpg', '048.jpg', '029.jpg', '066.jpg', '030.jpg', '062.jpg', '054.jpg', '036.jpg', '064.jpg', '020.jpg', '038.jpg', '026.jpg', '057.jpg', '034.jpg', '031.jpg', '025.jpg', '060.jpg', '039.jpg', '092.jpg', '122.jpg', '119.jpg', '123.jpg', '109.jpg', '102.jpg', '084.jpg', '088.jpg', '090.jpg', '127.jpg', '089.jpg', '126.jpg', '121.jpg', '083.jpg', '098.jpg', '087.jpg', '099.jpg', '081.jpg', '129.jpg', '104.jpg', '097.jpg', '112.jpg', '085.jpg', '094.jpg', '103.jpg', '110.jpg', '080.jpg', '108.jpg', '114.jpg', '113.jpg', '096.jpg', '124.jpg', '095.jpg', '120.jpg', '093.jpg', '100.jpg', '101.jpg', '125.jpg', '117.jpg', '115.jpg', '128.jpg', '200.jpg', '187.jpg', '142.jpg', '176.jpg', '156.jpg', '130.jpg', '171.jpg', '169.jpg', '172.jpg', '195.jpg', '158.jpg', '154.jpg', '191.jpg', '137.jpg', '182.jpg', '189.jpg', '151.jpg', '133.jpg', '183.jpg', '167.jpg', '139.jpg', '150.jpg', '140.jpg', '149.jpg', '180.jpg', '162.jpg', '134.jpg', '190.jpg', '196.jpg', '132.jpg', '160.jpg', '170.jpg', '197.jpg', '184.jpg', '131.jpg', '138.jpg', '179.jpg', '185.jpg', '178.jpg', '145.jpg', '153.jpg', '165.jpg', '161.jpg', '263.jpg', '212.jpg', '262.jpg', '272.jpg', '255.jpg', '230.jpg', '208.jpg', '269.jpg', '251.jpg', '273.jpg', '224.jpg', '247.jpg', '228.jpg', '257.jpg', '210.jpg', '277.jpg', '268.jpg', '242.jpg', '258.jpg', '225.jpg', '249.jpg', '267.jpg', '276.jpg', '265.jpg', '216.jpg', '220.jpg', '264.jpg', '213.jpg', '221.jpg', '234.jpg', '207.jpg', '214.jpg', '243.jpg', '261.jpg', '259.jpg', '209.jpg', '278.jpg', '226.jpg', '271.jpg', '240.jpg', '237.jpg', '275.jpg', '205.jpg', '217.jpg', '244.jpg']\n",
            "Directory path:  /content/drive/My Drive/Data/FoodDataset/FoodDataset/dataset/Dataset/train/pizza\n",
            "Folder name:  []\n",
            "File name:  ['006.jpg', '003.jpg', '008.jpg', '009.jpg', '007.jpg', '001.jpg', '002.jpg', '041.jpg', '028.jpg', '034.jpg', '046.jpg', '038.jpg', '016.jpg', '042.jpg', '020.jpg', '037.jpg', '023.jpg', '053.jpg', '026.jpg', '040.jpg', '050.jpg', '030.jpg', '035.jpg', '033.jpg', '029.jpg', '032.jpg', '021.jpg', '011.jpg', '049.jpg', '043.jpg', '015.jpg', '036.jpg', '022.jpg', '039.jpg', '045.jpg', '013.jpg', '048.jpg', '024.jpg', '054.jpg', '025.jpg', '047.jpg', '058.jpg', '082.jpg', '103.jpg', '090.jpg', '066.jpg', '076.jpg', '065.jpg', '084.jpg', '083.jpg', '098.jpg', '087.jpg', '093.jpg', '107.jpg', '095.jpg', '060.jpg', '077.jpg', '106.jpg', '067.jpg', '102.jpg', '092.jpg', '061.jpg', '070.jpg', '072.jpg', '079.jpg', '069.jpg', '063.jpg', '089.jpg', '096.jpg', '078.jpg', '055.jpg', '071.jpg', '097.jpg', '099.jpg', '075.jpg', '057.jpg', '125.jpg', '132.jpg', '122.jpg', '126.jpg', '124.jpg', '131.jpg', '134.jpg', '112.jpg', '138.jpg', '145.jpg', '121.jpg', '127.jpg', '151.jpg', '139.jpg', '143.jpg', '117.jpg', '140.jpg', '120.jpg', '136.jpg', '142.jpg', '149.jpg', '137.jpg', '133.jpg', '113.jpg', '123.jpg', '128.jpg', '150.jpg', '129.jpg', '147.jpg', '108.jpg', '111.jpg', '110.jpg', '144.jpg', '109.jpg', '114.jpg', '130.jpg', '115.jpg', '119.jpg', '209.jpg', '158.jpg', '200.jpg', '190.jpg', '175.jpg', '194.jpg', '207.jpg', '183.jpg', '203.jpg', '191.jpg', '187.jpg', '179.jpg', '198.jpg', '182.jpg', '186.jpg', '195.jpg', '167.jpg', '165.jpg', '202.jpg', '188.jpg', '160.jpg', '172.jpg', '156.jpg', '152.jpg', '176.jpg', '184.jpg', '166.jpg', '180.jpg', '169.jpg', '208.jpg', '178.jpg', '162.jpg', '154.jpg', '196.jpg', '224.jpg', '210.jpg', '220.jpg', '226.jpg', '225.jpg', '227.jpg', '232.jpg', '222.jpg', '229.jpg', '211.jpg', '217.jpg', '238.jpg', '240.jpg', '231.jpg', '216.jpg', '239.jpg', '213.jpg', '221.jpg', '212.jpg', '230.jpg', '248.jpg', '259.jpg', '245.jpg', '254.jpg', '260.jpg', '261.jpg', '255.jpg', '246.jpg', '251.jpg', '250.jpg', '256.jpg', '241.jpg', '249.jpg', '243.jpg', '258.jpg', '247.jpg']\n",
            "Directory path:  /content/drive/My Drive/Data/FoodDataset/FoodDataset/dataset/Dataset/train/momos\n",
            "Folder name:  []\n",
            "File name:  ['001.jpg', '008.jpg', '006.jpg', '002.jpg', '005.jpg', '003.jpg', '004.jpg', '060.jpg', '038.jpg', '046.jpg', '032.jpg', '012.jpg', '042.jpg', '051.jpg', '020.jpg', '056.jpg', '064.jpg', '025.jpg', '036.jpg', '063.jpg', '047.jpg', '055.jpg', '027.jpg', '059.jpg', '053.jpg', '052.jpg', '019.jpg', '067.jpg', '057.jpg', '041.jpg', '034.jpg', '048.jpg', '058.jpg', '066.jpg', '029.jpg', '033.jpg', '031.jpg', '017.jpg', '045.jpg', '062.jpg', '030.jpg', '022.jpg', '043.jpg', '075.jpg', '089.jpg', '105.jpg', '120.jpg', '070.jpg', '109.jpg', '116.jpg', '103.jpg', '078.jpg', '098.jpg', '092.jpg', '091.jpg', '079.jpg', '085.jpg', '084.jpg', '083.jpg', '121.jpg', '072.jpg', '073.jpg', '117.jpg', '114.jpg', '099.jpg', '107.jpg', '097.jpg', '094.jpg', '076.jpg', '069.jpg', '088.jpg', '068.jpg', '104.jpg', '082.jpg', '086.jpg', '087.jpg', '100.jpg', '108.jpg', '102.jpg', '112.jpg', '080.jpg', '106.jpg', '077.jpg', '151.jpg', '166.jpg', '152.jpg', '167.jpg', '126.jpg', '159.jpg', '140.jpg', '130.jpg', '144.jpg', '160.jpg', '145.jpg', '175.jpg', '143.jpg', '122.jpg', '168.jpg', '161.jpg', '147.jpg', '127.jpg', '172.jpg', '124.jpg', '157.jpg', '123.jpg', '150.jpg', '134.jpg', '174.jpg', '137.jpg', '165.jpg', '148.jpg', '155.jpg', '158.jpg', '141.jpg', '125.jpg', '153.jpg', '129.jpg', '138.jpg', '169.jpg', '154.jpg', '164.jpg', '162.jpg', '131.jpg', '173.jpg', '133.jpg', '128.jpg', '216.jpg', '227.jpg', '224.jpg', '202.jpg', '206.jpg', '199.jpg', '219.jpg', '176.jpg', '198.jpg', '186.jpg', '205.jpg', '230.jpg', '204.jpg', '212.jpg', '229.jpg', '208.jpg', '178.jpg', '183.jpg', '217.jpg', '195.jpg', '231.jpg', '213.jpg', '191.jpg', '196.jpg', '194.jpg', '193.jpg', '200.jpg', '181.jpg', '177.jpg', '189.jpg', '215.jpg', '187.jpg', '192.jpg', '228.jpg', '180.jpg', '203.jpg', '179.jpg', '221.jpg', '197.jpg', '211.jpg', '201.jpg', '218.jpg', '264.jpg', '233.jpg', '273.jpg', '259.jpg', '242.jpg', '236.jpg', '265.jpg', '297.jpg', '237.jpg', '275.jpg', '287.jpg', '282.jpg', '238.jpg', '284.jpg', '277.jpg', '260.jpg', '271.jpg', '256.jpg', '286.jpg', '251.jpg', '241.jpg', '252.jpg', '276.jpg', '288.jpg', '261.jpg', '268.jpg', '267.jpg', '244.jpg', '239.jpg', '263.jpg', '246.jpg', '249.jpg', '293.jpg', '285.jpg', '269.jpg', '272.jpg', '255.jpg', '280.jpg', '245.jpg', '258.jpg', '295.jpg', '257.jpg', '290.jpg', '274.jpg', '294.jpg', '247.jpg', '316.jpg', '309.jpg', '301.jpg', '315.jpg', '306.jpg', '317.jpg', '304.jpg', '307.jpg', '300.jpg', '298.jpg', '299.jpg']\n",
            "Directory path:  /content/drive/My Drive/Data/FoodDataset/FoodDataset/dataset/Dataset/train/samosa\n",
            "Folder name:  []\n",
            "File name:  ['030.jpg', '011.jpg', '001.jpg', '002.jpg', '029.jpg', '020.jpg', '015.jpg', '009.jpg', '013.jpg', '008.jpg', '016.jpg', '003.jpg', '006.JPG', '010.jpg', '032.jpg', '007.jpg', '024.jpg', '022.jpg', '023.jpg', '026.jpg', '028.jpg', '057.jpg', '050.jpg', '039.jpg', '075.jpg', '043.jpg', '038.jpg', '045.jpg', '066.jpg', '078.jpg', '065.jpg', '049.jpg', '070.jpg', '074.jpg', '041.jpg', '042.jpg', '069.jpg', '035.jpg', '060.jpg', '040.jpg', '036.jpg', '034.jpg', '076.jpg', '037.jpg', '072.jpg', '046.jpg', '071.jpg', '063.jpg', '059.jpg', '033.jpg', '055.jpg', '048.jpg', '056.jpg', '061.jpg', '077.jpg', '067.jpg', '047.jpg', '054.jpg', '110.jpg', '089.jpg', '122.jpg', '101.jpg', '088.jpg', '098.jpg', '106.jpg', '113.jpg', '134.jpg', '137.jpg', '099.jpg', '083.jpg', '095.jpg', '086.jpg', '119.jpg', '092.jpg', '131.jpg', '103.jpg', '124.jpg', '117.jpg', '111.jpg', '123.jpg', '093.jpg', '128.jpg', '125.jpg', '126.jpg', '115.jpg', '097.jpg', '084.jpg', '114.jpg', '133.jpg', '132.jpg', '112.jpg', '096.jpg', '129.jpg', '109.jpg', '082.jpg', '079.jpg', '120.jpg', '162.jpg', '216.jpg', '221.jpg', '172.jpg', '139.jpg', '202.jpg', '178.jpg', '198.jpg', '176.jpg', '167.jpg', '156.jpg', '147.jpg', '200.jpg', '140.jpg', '201.jpg', '152.jpg', '220.jpg', '166.jpg', '185.jpg', '160.jpg', '149.jpg', '210.jpg', '196.jpg', '213.jpg', '145.jpg', '187.jpg', '217.jpg', '191.jpg', '183.jpg', '181.jpg', '179.jpg', '194.jpg', '212.jpg', '190.jpg', '143.jpg', '142.jpg', '161.jpg', '186.jpg', '208.jpg', '259.jpg', '251.jpg', '238.jpg', '227.jpg', '241.jpg', '243.jpg', '260.jpg', '228.jpg', '247.jpg', '240.jpg', '234.jpg', '222.jpg', '265.jpg', '261.jpg', '256.jpg', '263.jpg', '230.jpg', '237.jpg', '262.jpg', '239.jpg', '252.jpg', '255.jpg', '224.jpg', '264.jpg', '258.jpg', '253.jpg', '225.jpg', '257.jpg']\n",
            "Directory path:  /content/drive/My Drive/Data/FoodDataset/FoodDataset/dataset/Dataset/train/paani_puri\n",
            "Folder name:  []\n",
            "File name:  ['012.jpg', '020.jpg', '017.jpg', '023.jpg', '021.jpg', '024.jpg', '001.jpg', '004.jpg', '005.jpg', '013.jpg', '028.jpg', '015.jpg', '019.jpg', '007.jpg', '011.jpg', '006.jpg', '025.jpg', '027.jpg', '008.jpg', '010.jpg', '002.jpg', '031.jpg', '026.jpg', '030.jpg', '018.jpg', '029.jpg', '033.jpg', '063.jpg', '043.jpg', '076.jpg', '054.jpg', '037.jpg', '069.jpg', '068.jpg', '049.jpg', '044.jpg', '056.jpg', '038.jpg', '060.jpg', '042.jpg', '053.jpg', '050.jpg', '074.jpg', '080.jpg', '064.jpg', '036.jpg', '058.jpg', '078.jpg', '034.jpg', '070.jpg', '079.jpg', '072.jpg', '048.jpg', '067.jpg', '071.jpg', '035.jpg', '084.jpg', '114.jpg', '123.jpg', '125.jpg', '083.jpg', '105.jpg', '119.jpg', '116.jpg', '115.jpg', '090.jpg', '130.jpg', '112.jpg', '089.jpg', '129.jpg', '121.jpg', '096.jpg', '099.jpg', '097.jpg', '127.jpg', '082.jpg', '081.jpg', '108.jpg', '088.jpg', '107.jpg', '100.jpg', '092.jpg', '113.jpg', '093.jpg', '101.jpg']\n",
            "Directory path:  /content/drive/My Drive/Data/FoodDataset/FoodDataset/dataset/Dataset/train/kulfi\n",
            "Folder name:  []\n",
            "File name:  ['004.jpg', '034.jpg', '040.jpg', '026.jpg', '030.jpg', '054.jpg', '032.jpg', '008.jpg', '050.jpg', '009.jpg', '015.jpg', '024.jpg', '036.jpg', '045.jpg', '010.jpg', '001.jpg', '023.jpg', '058.jpg', '037.jpg', '035.jpg', '049.jpg', '013.jpg', '020.jpg', '041.jpg', '033.jpg', '038.jpg', '056.jpg', '003.jpg', '047.jpg', '006.jpg', '029.jpg', '057.jpg', '025.jpg', '043.jpg', '011.jpg', '002.jpg', '109.jpg', '078.jpg', '072.jpg', '088.jpg', '089.jpg', '100.jpg', '065.jpg', '079.jpg', '087.jpg', '093.jpg', '062.jpg', '092.jpg', '096.jpg', '069.jpg', '067.jpg', '075.jpg', '063.jpg', '094.jpg', '076.jpg', '086.jpg', '095.jpg', '098.jpg', '066.jpg', '102.jpg', '074.jpg', '084.jpg', '106.jpg', '101.jpg', '059.jpg', '070.jpg', '077.jpg', '112.jpg', '158.jpg', '144.jpg', '182.jpg', '166.jpg', '154.jpg', '119.jpg', '169.jpg', '115.jpg', '137.jpg', '178.jpg', '111.jpg', '124.jpg', '116.jpg', '120.jpg', '117.jpg', '142.jpg', '152.jpg', '162.jpg', '139.jpg', '134.jpg', '110.jpg', '161.jpg', '136.jpg', '147.jpg', '176.jpg', '171.jpg', '180.jpg', '114.jpg', '113.jpg', '126.jpg', '140.jpg', '132.jpg', '131.jpg', '149.jpg', '179.jpg', '138.jpg', '187.jpg', '186.jpg', '202.jpg', '215.jpg', '226.jpg', '184.jpg', '233.jpg', '208.jpg', '191.jpg', '198.jpg', '193.jpg', '207.jpg', '194.jpg', '195.jpg', '222.jpg', '199.jpg', '231.jpg', '212.jpg', '204.jpg', '232.jpg', '219.jpg', '236.jpg', '211.jpg', '206.jpg', '183.jpg', '227.jpg', '209.jpg', '214.jpg', '213.jpg', '230.jpg']\n",
            "Directory path:  /content/drive/My Drive/Data/FoodDataset/FoodDataset/dataset/Dataset/train/masala_dosa\n",
            "Folder name:  []\n",
            "File name:  ['013.jpg', '006.jpg', '001.jpg', '002.jpg', '003.jpg', '010.jpg', '012.jpg', '011.jpg', '005.jpg', '004.jpg', '041.jpg', '052.jpg', '015.jpg', '059.jpg', '043.jpg', '042.jpg', '033.jpg', '035.jpg', '045.jpg', '046.jpg', '060.jpg', '032.jpg', '036.jpg', '049.jpg', '055.jpg', '030.jpg', '020.jpg', '048.jpg', '047.jpg', '057.jpg', '017.jpg', '019.jpg', '053.jpg', '029.jpg', '031.jpg', '051.jpg', '058.jpg', '027.jpg', '038.jpg', '104.jpg', '090.jpg', '075.jpg', '097.jpg', '106.jpg', '070.jpg', '064.jpg', '105.jpg', '082.jpg', '067.jpg', '116.jpg', '100.jpg', '083.jpg', '085.jpg', '076.jpg', '092.jpg', '086.jpg', '088.jpg', '114.jpg', '071.jpg', '078.jpg', '109.jpg', '108.jpg', '119.jpg', '094.jpg', '080.jpg', '084.jpg', '063.jpg', '061.jpg', '079.jpg', '107.jpg', '062.jpg', '111.jpg', '073.jpg', '077.jpg', '096.jpg', '069.jpg', '074.jpg', '072.jpg', '152.jpg', '149.jpg', '140.jpg', '159.jpg', '156.jpg', '157.jpg', '138.jpg', '170.jpg', '174.jpg', '121.jpg', '127.jpg', '136.jpg', '172.jpg', '132.jpg', '147.jpg', '129.jpg', '163.jpg', '124.jpg', '122.jpg', '151.jpg', '183.jpg', '169.jpg', '179.jpg', '133.jpg', '135.jpg', '176.jpg', '155.jpg', '145.jpg', '120.jpg', '162.jpg', '160.jpg', '165.jpg', '128.jpg', '148.jpg', '153.jpg', '123.jpg', '144.jpg', '201.jpg', '192.jpg', '199.jpg', '238.jpg', '221.jpg', '220.jpg', '197.jpg', '202.jpg', '204.jpg', '215.jpg', '240.jpg', '184.jpg', '196.jpg', '219.jpg', '217.jpg', '206.jpg', '227.jpg', '218.jpg', '229.jpg', '195.jpg', '200.jpg', '191.jpg', '243.jpg', '228.jpg', '207.jpg', '190.jpg', '234.jpg', '226.jpg', '224.jpg', '225.jpg', '233.jpg', '188.jpg', '216.jpg', '236.jpg', '186.jpg', '194.jpg', '211.jpg', '263.jpg', '278.jpg', '249.jpg', '265.jpg', '267.jpg', '300.jpg', '251.jpg', '246.jpg', '302.jpg', '264.jpg', '262.jpg', '261.jpg', '271.jpg', '294.jpg', '301.jpg', '286.jpg', '298.jpg', '275.jpg', '280.jpg', '260.jpg', '244.jpg', '295.jpg', '247.jpg', '309.jpg', '274.jpg', '305.jpg', '255.jpg', '252.jpg', '253.jpg', '311.jpg', '310.jpg', '259.jpg', '281.jpg', '307.jpg', '269.jpg']\n",
            "Directory path:  /content/drive/My Drive/Data/FoodDataset/FoodDataset/dataset/Dataset/train/kadai_paneer\n",
            "Folder name:  []\n",
            "File name:  ['020.jpg', '014.jpg', '012.jpg', '019.jpg', '006.jpg', '032.jpg', '018.jpg', '040.jpg', '017.jpg', '002.jpg', '051.jpg', '053.jpg', '046.jpg', '052.jpg', '039.jpg', '038.jpg', '055.jpg', '043.jpg', '036.jpg', '030.jpg', '015.jpg', '044.jpg', '004.jpg', '003.jpg', '027.jpg', '008.jpg', '050.jpg', '049.jpg', '016.jpg', '048.jpg', '047.jpg', '034.jpg', '056.jpg', '042.jpg', '045.jpg', '086.jpg', '066.jpg', '109.jpg', '088.jpg', '091.jpg', '082.jpg', '116.jpg', '062.jpg', '087.jpg', '112.jpg', '065.jpg', '068.jpg', '072.jpg', '074.jpg', '089.jpg', '111.jpg', '070.jpg', '096.jpg', '092.jpg', '085.jpg', '090.jpg', '100.jpg', '064.jpg', '076.jpg', '115.jpg', '097.jpg', '081.jpg', '083.jpg', '073.jpg', '075.jpg', '102.jpg', '113.jpg', '117.jpg', '060.jpg', '171.jpg', '176.jpg', '155.jpg', '140.jpg', '131.jpg', '143.jpg', '163.jpg', '142.jpg', '144.jpg', '154.jpg', '159.jpg', '170.jpg', '156.jpg', '173.jpg', '175.jpg', '153.jpg', '165.jpg', '126.jpg', '168.jpg', '166.jpg', '157.jpg', '149.jpg', '127.jpg', '160.jpg', '174.jpg', '152.jpg', '147.jpg', '121.jpg', '145.jpg', '158.jpg', '177.jpg', '150.jpg', '179.jpg', '151.jpg', '172.jpg', '161.jpg', '119.jpg', '167.jpg', '139.jpg', '211.jpg', '218.jpg', '193.jpg', '239.jpg', '188.jpg', '224.jpg', '206.jpg', '198.jpg', '187.jpg', '217.jpg', '202.jpg', '203.jpg', '244.jpg', '225.jpg', '192.jpg', '195.jpg', '214.jpg', '229.jpg', '220.jpg', '212.jpg', '215.jpg', '199.jpg', '190.jpg', '236.jpg', '238.jpg', '201.jpg', '231.jpg', '197.jpg', '205.jpg', '233.jpg', '200.jpg', '243.jpg', '204.jpg', '185.jpg', '182.jpg', '194.jpg', '186.jpg', '183.jpg', '255.jpg', '251.jpg', '323.jpg', '320.jpg', '322.jpg', '273.jpg', '263.jpg', '262.jpg', '274.jpg', '259.jpg', '295.jpg', '265.jpg', '249.jpg', '298.jpg', '303.jpg', '279.jpg', '252.jpg', '293.jpg', '253.jpg', '264.jpg', '306.jpg', '319.jpg', '290.jpg', '266.jpg', '287.jpg', '245.jpg', '294.jpg', '246.jpg', '272.jpg', '308.jpg', '297.jpg', '301.jpg', '315.jpg', '289.jpg', '276.jpg', '317.jpg', '316.jpg', '302.jpg', '382.jpg', '388.jpg', '332.jpg', '402.jpg', '334.jpg', '359.jpg', '378.jpg', '367.jpg', '397.jpg', '325.jpg', '356.jpg', '345.jpg', '353.jpg', '351.jpg', '357.jpg', '386.jpg', '389.jpg', '338.jpg', '404.jpg', '330.jpg', '340.jpg', '381.jpg', '355.jpg', '336.jpg', '329.jpg', '350.jpg', '337.jpg', '392.jpg', '339.jpg', '363.jpg', '358.jpg', '380.jpg', '398.jpg', '394.jpg', '341.jpg', '344.jpg', '324.jpg', '396.jpg', '361.jpg', '373.jpg', '405.jpg', '410.jpg', '411.jpg', '406.jpg']\n",
            "Directory path:  /content/drive/My Drive/Data/FoodDataset/FoodDataset/dataset/Dataset/train/chapati\n",
            "Folder name:  []\n",
            "File name:  ['001.jpg', '051.jpg', '036.jpg', '055.jpg', '052.jpg', '003.jpg', '044.jpg', '020.jpg', '030.jpg', '025.jpg', '012.jpg', '043.jpg', '016.jpg', '027.jpg', '042.jpg', '040.jpg', '002.jpg', '004.jpg', '046.jpg', '005.jpg', '060.jpg', '053.jpg', '015.jpg', '011.jpg', '048.jpg', '018.jpg', '039.jpg', '021.jpg', '006.jpg', '034.jpg', '059.jpg', '061.jpg', '057.jpg', '038.jpg', '019.jpg', '056.jpg', '050.jpg', '086.jpg', '071.jpg', '094.jpg', '121.jpg', '089.jpg', '063.jpg', '078.jpg', '081.jpg', '098.jpg', '102.jpg', '074.jpg', '087.jpg', '066.jpg', '073.jpg', '123.jpg', '108.jpg', '111.jpg', '084.jpg', '097.jpg', '126.jpg', '092.jpg', '129.jpg', '117.jpg', '116.jpg', '079.jpg', '072.jpg', '107.jpg', '064.jpg', '124.jpg', '076.jpg', '125.jpg', '104.jpg', '113.jpg', '115.jpg', '070.jpg', '088.jpg', '122.jpg', '127.jpg', '083.jpg', '091.jpg', '090.jpg', '100.jpg', '190.jpg', '164.jpg', '194.jpg', '152.jpg', '184.jpg', '169.jpg', '134.jpg', '173.jpg', '161.jpg', '176.jpg', '155.jpg', '142.jpg', '131.jpg', '151.jpg', '171.jpg', '159.jpg', '157.jpg', '133.jpg', '189.jpg', '139.jpg', '160.jpg', '170.jpg', '196.jpg', '158.jpg', '183.jpg', '195.jpg', '138.jpg', '179.jpg', '185.jpg', '147.jpg', '166.jpg', '180.jpg', '153.jpg', '172.jpg', '177.jpg', '175.jpg', '150.jpg', '188.jpg', '210.jpg', '198.jpg', '256.jpg', '257.jpg', '247.jpg', '208.jpg', '197.jpg', '207.jpg', '218.jpg', '215.jpg', '248.jpg', '214.jpg', '224.jpg', '230.jpg', '220.jpg', '211.jpg', '242.jpg', '217.jpg', '246.jpg', '241.jpg', '212.jpg', '206.jpg', '258.jpg', '223.jpg', '239.jpg', '244.jpg', '236.jpg', '251.jpg', '231.jpg', '204.jpg', '240.jpg', '228.jpg', '253.jpg', '238.jpg', '227.jpg', '200.jpg', '199.jpg', '245.jpg', '266.jpg', '298.jpg', '275.jpg', '297.jpg', '300.jpg', '279.jpg', '301.jpg', '289.jpg', '303.jpg', '263.jpg', '320.jpg', '276.jpg', '306.jpg', '319.jpg', '311.jpg', '293.jpg', '288.jpg', '260.jpg', '265.jpg', '302.jpg', '287.jpg', '273.jpg', '304.jpg', '283.jpg', '262.jpg', '321.jpg', '312.jpg', '274.jpg', '280.jpg', '316.jpg', '259.jpg', '336.jpg', '357.jpg', '387.jpg', '351.jpg', '343.jpg', '390.jpg', '384.jpg', '342.jpg', '405.jpg', '370.jpg', '326.jpg', '383.jpg', '355.jpg', '359.jpg', '334.jpg', '329.jpg', '378.jpg', '344.jpg', '356.jpg', '330.jpg', '345.jpg', '389.jpg', '380.jpg', '332.jpg', '379.jpg', '377.jpg', '337.jpg', '376.jpg', '322.jpg', '367.jpg', '339.jpg', '396.jpg', '401.jpg', '350.jpg', '381.jpg', '324.jpg', '393.jpg', '374.jpg', '325.jpg', '398.jpg', '366.jpg', '369.jpg', '407.jpg', '412.jpg']\n",
            "Directory path:  /content/drive/My Drive/Data/FoodDataset/FoodDataset/dataset/Dataset/train/dal_makhani\n",
            "Folder name:  []\n",
            "File name:  ['017.jpg', '025.jpg', '005.jpg', '058.jpg', '019.jpg', '036.jpg', '018.jpg', '048.jpg', '060.jpg', '012.JPG', '001.jpg', '010.jpg', '042.jpg', '003.jpg', '002.jpg', '046.jpg', '020.jpg', '045.jpg', '055.jpg', '029.jpg', '032.jpg', '004.jpg', '043.jpg', '006.JPG', '057.jpg', '033.jpg', '049.jpg', '022.jpg', '041.jpg', '038.jpg', '008.jpg', '061.jpg', '030.jpg', '052.jpg', '053.jpg', '062.jpg', '027.jpg', '047.jpg', '056.jpg', '072.jpg', '070.jpg', '082.jpg', '084.jpg', '088.jpg', '100.jpg', '064.jpg', '123.jpg', '066.jpg', '068.jpg', '091.jpg', '109.jpg', '080.jpg', '073.jpg', '106.jpg', '083.jpg', '089.jpg', '096.jpg', '125.jpg', '102.jpg', '120.jpg', '094.jpg', '092.jpg', '079.jpg', '124.jpg', '122.jpg', '086.jpg', '063.jpg', '071.jpg', '115.jpg', '075.jpg', '108.jpg', '085.jpg', '112.jpg', '105.jpg', '126.jpg', '107.jpg', '172.jpg', '137.jpg', '138.jpg', '167.jpg', '128.jpg', '152.jpg', '141.jpg', '149.jpg', '175.jpg', '153.jpg', '173.jpg', '178.jpg', '158.jpg', '145.jpg', '170.jpg', '154.jpg', '143.jpg', '159.jpg', '179.jpg', '133.jpg', '166.jpg', '136.jpg', '150.jpg', '148.jpg', '129.jpg', '161.jpg', '176.jpg', '130.jpg', '177.jpg', '131.jpg', '157.jpg', '181.jpg', '140.jpg', '134.jpg', '147.jpg', '144.jpg', '162.jpg', '174.jpg', '180.jpg', '206.jpg', '200.jpg', '241.jpg', '224.jpg', '219.jpg', '198.jpg', '238.jpg', '192.jpg', '195.jpg', '242.jpg', '188.jpg', '239.jpg', '197.jpg', '227.jpg', '185.jpg', '204.jpg', '203.jpg', '191.jpg', '220.jpg', '246.jpg', '199.jpg', '229.jpg', '212.jpg', '215.jpg', '202.jpg', '237.jpg', '245.jpg', '196.jpg', '186.jpg', '216.jpg', '183.jpg', '218.jpg', '236.jpg', '221.jpg', '248.jpg', '223.jpg', '208.jpg', '235.jpg', '201.jpg', '217.jpg', '207.jpg', '230.jpg', '303.jpg', '253.jpg', '278.jpg', '283.jpg', '256.jpg', '293.jpg', '286.jpg', '279.jpg', '314.jpg', '271.jpg', '295.jpg', '304.jpg', '266.jpg', '291.jpg', '252.jpg', '272.jpg', '259.jpg', '257.jpg', '302.jpg', '311.jpg', '299.jpg', '260.jpg', '310.jpg', '290.jpg', '294.jpg', '275.jpg', '265.jpg', '301.jpg', '300.jpg', '287.jpg', '308.jpg', '282.jpg', '267.jpg', '307.jpg', '258.jpg', '296.jpg', '309.jpg', '284.jpg', '285.jpg', '313.jpg', '274.jpg', '321.jpg', '317.jpg', '319.jpg', '320.jpg', '316.jpg']\n",
            "Directory path:  /content/drive/My Drive/Data/FoodDataset/FoodDataset/dataset/Dataset/train/fried_rice\n",
            "Folder name:  []\n",
            "File name:  ['025.jpg', '004.jpg', '005.jpg', '001.jpg', '002.jpg', '008.jpg', '011.jpg', '012.jpg', '016.jpg', '019.jpg', '027.jpg', '017.jpg', '015.jpg', '003.jpg', '014.jpg', '020.jpg', '006.jpg', '021.jpg', '065.jpg', '044.jpg', '052.jpg', '049.jpg', '061.jpg', '074.jpg', '058.jpg', '053.jpg', '036.jpg', '032.jpg', '056.jpg', '055.jpg', '050.jpg', '033.jpg', '068.jpg', '047.jpg', '051.jpg', '060.jpg', '040.jpg', '071.jpg', '062.jpg', '064.jpg', '046.jpg', '045.jpg', '063.jpg', '070.jpg', '057.jpg', '030.jpg', '072.jpg', '034.jpg', '043.jpg', '042.jpg', '069.jpg', '073.jpg', '048.jpg', '059.jpg', '039.jpg', '066.jpg', '038.jpg', '121.jpg', '107.jpg', '120.jpg', '087.jpg', '094.jpg', '122.jpg', '078.jpg', '108.jpg', '096.jpg', '111.jpg', '097.jpg', '128.jpg', '131.jpg', '100.jpg', '102.jpg', '090.jpg', '127.jpg', '115.jpg', '124.jpg', '076.jpg', '125.jpg', '104.jpg', '075.jpg', '113.jpg', '081.jpg', '085.jpg', '116.jpg', '089.jpg', '084.jpg', '086.jpg', '112.jpg', '126.jpg', '119.jpg', '123.jpg', '105.jpg', '109.jpg', '129.jpg', '092.jpg', '114.jpg', '079.jpg', '147.jpg', '180.jpg', '175.jpg', '154.jpg', '142.jpg', '133.jpg', '144.jpg', '171.jpg', '160.jpg', '177.jpg', '161.jpg', '157.jpg', '170.jpg', '149.jpg', '151.jpg', '176.jpg', '143.jpg', '158.jpg', '163.jpg', '173.jpg', '156.jpg', '145.jpg', '140.jpg', '166.jpg', '150.jpg', '141.jpg', '159.jpg', '172.jpg', '179.jpg', '167.jpg', '137.jpg', '164.jpg', '152.jpg', '168.jpg', '181.jpg', '212.jpg', '188.jpg', '189.jpg', '196.jpg', '184.jpg', '182.jpg', '203.jpg', '192.jpg', '194.jpg', '210.jpg', '185.jpg', '214.jpg', '191.jpg', '198.jpg', '206.jpg', '213.jpg', '190.jpg', '208.jpg', '202.jpg', '204.jpg', '211.jpg', '183.jpg', '199.jpg', '197.jpg', '201.jpg', '216.jpg', '223.jpg', '252.jpg', '256.jpg', '241.jpg', '244.jpg', '231.jpg', '248.jpg', '257.jpg', '229.jpg', '236.jpg', '251.jpg', '245.jpg', '239.jpg', '225.jpg', '247.jpg', '240.jpg', '227.jpg', '228.jpg', '238.jpg', '243.jpg', '217.jpg', '218.jpg', '224.jpg', '255.jpg', '246.jpg', '215.jpg', '230.jpg', '253.jpg', '235.jpg', '233.jpg', '220.jpg', '301.jpg', '267.jpg', '272.jpg', '303.jpg', '290.jpg', '294.jpg', '284.jpg', '287.jpg', '299.jpg', '298.jpg', '275.jpg', '291.jpg', '258.jpg', '276.jpg', '279.jpg', '295.jpg', '286.jpg', '302.jpg', '262.jpg', '269.jpg', '283.jpg', '261.jpg', '288.jpg', '265.jpg', '264.jpg', '263.jpg', '266.jpg', '274.jpg', '297.jpg', '277.jpg', '280.jpg', '273.jpg', '346.jpg', '348.jpg', '344.jpg', '341.jpg', '312.jpg', '326.jpg', '318.jpg', '338.jpg', '336.jpg', '320.jpg', '331.jpg', '327.jpg', '335.jpg', '347.jpg', '339.jpg', '314.jpg', '328.jpg', '330.jpg', '305.jpg', '310.jpg', '342.jpg', '333.jpg', '343.jpg', '321.jpg', '332.jpg', '313.jpg', '325.jpg', '351.jpg', '354.jpg']\n",
            "Directory path:  /content/drive/My Drive/Data/FoodDataset/FoodDataset/dataset/Dataset/train/idli\n",
            "Folder name:  []\n",
            "File name:  ['046.jpg', '045.jpg', '030.jpg', '020.jpg', '010.jpg', '004.jpg', '041.jpg', '047.jpg', '049.jpg', '013.jpg', '048.jpg', '001.jpg', '011.JPG', '017.jpg', '012.jpg', '038.jpg', '042.jpg', '022.jpg', '031.jpg', '051.jpg', '008.jpg', '055.jpg', '025.jpg', '057.jpg', '019.JPG', '003.jpg', '034.jpg', '002.jpg', '040.jpg', '027.jpg', '053.jpg', '043.jpg', '052.jpg', '036.jpg', '033.jpg', '015.jpg', '006.jpg', '032.jpg', '029.jpg', '105.jpg', '067.jpg', '080.jpg', '087.jpg', '089.jpg', '070.jpg', '069.jpg', '090.jpg', '107.jpg', '058.jpg', '076.jpg', '094.jpg', '075.jpg', '079.jpg', '074.jpg', '088.jpg', '061.jpg', '064.jpg', '072.jpg', '102.jpg', '092.jpg', '078.jpg', '098.jpg', '086.jpg', '096.jpg', '085.jpg', '084.jpg', '103.jpg', '073.jpg', '082.jpg', '059.jpg', '099.jpg', '060.jpg', '097.jpg', '104.jpg', '071.jpg', '106.jpg', '062.jpg', '077.jpg', '142.jpg', '138.jpg', '111.jpg', '164.jpg', '132.jpg', '135.jpg', '114.jpg', '136.jpg', '122.jpg', '124.jpg', '123.jpg', '128.jpg', '162.jpg', '159.jpg', '156.jpg', '129.jpg', '108.jpg', '115.jpg', '131.jpg', '148.jpg', '154.jpg', '109.jpg', '153.jpg', '119.jpg', '147.jpg', '160.jpg', '145.jpg', '121.jpg', '141.jpg', '133.jpg', '151.jpg', '137.jpg', '130.jpg', '155.jpg', '140.jpg', '126.jpg', '161.jpg', '120.jpg', '116.jpg', '219.jpg', '199.jpg', '220.jpg', '173.jpg', '217.jpg', '198.jpg', '178.jpg', '206.jpg', '195.jpg', '169.jpg', '196.jpg', '213.jpg', '186.jpg', '225.jpg', '177.jpg', '165.jpg', '194.jpg', '185.jpg', '170.jpg', '176.jpg', '167.jpg', '191.jpg', '208.jpg', '218.jpg', '212.jpg', '201.jpg', '223.jpg', '184.jpg', '216.jpg', '197.jpg', '221.jpg', '200.jpg', '181.jpg', '180.jpg', '224.jpg', '174.jpg', '203.jpg', '172.jpg', '175.jpg', '211.jpg', '188.jpg', '204.jpg', '234.jpg', '227.jpg', '246.jpg', '257.jpg', '241.jpg', '260.jpg', '292.jpg', '243.jpg', '230.jpg', '267.jpg', '250.jpg', '238.jpg', '262.jpg', '240.jpg', '276.jpg', '251.jpg', '247.jpg', '286.jpg', '255.jpg', '254.jpg', '256.jpg', '277.jpg', '287.jpg', '229.jpg', '235.jpg', '275.jpg', '274.jpg', '284.jpg', '278.jpg', '282.jpg', '290.jpg', '263.jpg', '280.jpg', '242.jpg', '259.jpg', '268.jpg', '273.jpg', '237.jpg', '297.jpg', '245.jpg', '258.jpg', '261.jpg', '226.jpg', '307.jpg', '301.jpg', '303.jpg', '308.jpg', '300.jpg']\n",
            "Directory path:  /content/drive/My Drive/Data/FoodDataset/FoodDataset/dataset/Dataset/train/chole_bhature\n",
            "Folder name:  []\n",
            "File name:  ['040.jpg', '005.jpg', '044.jpg', '020.jpg', '001.jpg', '002.jpg', '038.jpg', '025.jpg', '015.JPG', '052.jpg', '053.jpg', '046.jpg', '003.jpg', '039.jpg', '011.jpg', '027.jpg', '032.jpg', '030.jpg', '045.jpg', '033.jpg', '036.jpg', '014.jpg', '059.jpg', '050.jpg', '042.jpg', '057.jpg', '047.jpg', '017.jpg', '051.jpg', '055.jpg', '006.jpg', '019.jpg', '021.jpg', '034.jpg', '056.jpg', '004.jpg', '016.jpg', '117.jpg', '111.jpg', '115.jpg', '112.jpg', '114.jpg', '081.jpg', '107.jpg', '073.jpg', '076.jpg', '088.jpg', '068.jpg', '086.jpg', '082.jpg', '113.jpg', '072.jpg', '097.jpg', '079.jpg', '092.jpg', '071.jpg', '096.jpg', '091.jpg', '105.jpg', '063.jpg', '062.jpg', '061.jpg', '106.jpg', '074.jpg', '069.jpg', '083.jpg', '102.jpg', '087.jpg', '094.jpg', '084.jpg', '116.jpg', '078.jpg', '109.jpg', '070.jpg', '108.jpg', '065.jpg', '120.jpg', '169.jpg', '128.jpg', '141.jpg', '133.jpg', '121.jpg', '129.jpg', '170.jpg', '126.jpg', '131.jpg', '164.jpg', '124.jpg', '134.jpg', '147.jpg', '171.jpg', '139.jpg', '150.jpg', '161.jpg', '142.jpg', '152.jpg', '127.jpg', '167.jpg', '123.jpg', '157.jpg', '140.jpg', '156.jpg', '145.jpg', '166.jpg', '143.jpg', '125.jpg', '137.jpg', '151.jpg', '165.jpg', '149.jpg', '138.jpg', '168.jpg', '158.jpg', '159.jpg', '122.jpg', '210.jpg', '207.jpg', '184.jpg', '188.jpg', '202.jpg', '214.jpg', '208.jpg', '187.jpg', '185.jpg', '201.jpg', '215.jpg', '173.jpg', '181.jpg', '192.jpg', '193.jpg', '200.jpg', '203.jpg', '212.jpg', '211.jpg', '206.jpg', '177.jpg', '216.jpg', '191.jpg', '198.jpg', '213.jpg', '174.jpg', '217.jpg', '189.jpg', '194.jpg', '186.jpg', '183.jpg', '180.jpg', '190.jpg', '196.jpg', '204.jpg', '218.jpg', '195.jpg', '182.jpg', '199.jpg', '229.jpg', '252.jpg', '273.jpg', '257.jpg', '238.jpg', '228.jpg', '275.jpg', '244.jpg', '247.jpg', '249.jpg', '258.jpg', '256.jpg', '272.jpg', '266.jpg', '259.jpg', '243.jpg', '269.jpg', '231.jpg', '225.jpg', '263.jpg', '220.jpg', '236.jpg', '264.jpg', '265.jpg', '223.jpg', '260.jpg', '230.jpg', '274.jpg', '227.jpg', '241.jpg', '248.jpg', '233.jpg', '224.jpg', '253.jpg', '279.jpg', '336.jpg', '345.jpg', '330.jpg', '328.jpg', '320.jpg', '283.jpg', '317.jpg', '312.jpg', '294.jpg', '333.jpg', '337.jpg', '300.jpg', '316.jpg', '291.jpg', '324.jpg', '304.jpg', '343.jpg', '308.jpg', '342.jpg', '303.jpg', '297.jpg', '325.jpg', '306.jpg', '338.jpg', '339.jpg', '321.jpg', '331.jpg', '298.jpg', '326.jpg', '295.jpg', '340.jpg', '280.jpg', '315.jpg', '288.jpg', '380.jpg', '364.jpg', '374.jpg', '410.jpg', '391.jpg', '379.jpg', '401.jpg', '385.jpg', '403.jpg', '405.jpg', '390.jpg', '357.jpg', '396.jpg', '384.jpg', '387.jpg', '393.jpg', '363.jpg', '375.jpg', '382.jpg', '394.jpg', '366.jpg', '365.jpg', '408.jpg', '392.jpg', '388.jpg', '395.jpg', '406.jpg', '360.jpg', '352.jpg', '368.jpg', '367.jpg', '404.jpg', '362.jpg', '353.jpg', '355.jpg', '409.jpg', '399.jpg', '381.jpg']\n",
            "Directory path:  /content/drive/My Drive/Data/FoodDataset/FoodDataset/dataset/Dataset/train/jalebi\n",
            "Folder name:  []\n",
            "File name:  ['027.jpg', '044.jpg', '020.jpg', '001.jpg', '006.jpg', '041.jpg', '035.jpg', '029.jpg', '008.JPG', '036.jpg', '030.jpg', '033.jpg', '045.jpg', '024.jpg', '015.jpg', '019.jpg', '042.jpg', '018.png', '025.jpg', '002.jpg', '031.jpg', '026.jpg', '011.jpg', '003.jpg', '034.jpg', '039.jpg', '016.jpg', '017.jpg', '043.jpg', '021.jpg', '038.jpg', '005.jpg', '014.JPG', '060.jpg', '093.jpg', '049.jpg', '066.jpg', '099.jpg', '068.jpg', '082.jpg', '098.jpg', '090.jpg', '074.jpg', '080.jpg', '085.jpg', '083.jpg', '065.jpg', '069.jpg', '063.jpg', '053.jpg', '070.jpg', '052.jpg', '092.jpg', '064.jpg', '096.jpg', '088.jpg', '058.jpg', '057.jpg', '050.jpg', '075.jpg', '087.jpg', '056.jpg', '095.jpg', '072.jpg', '051.jpg', '100.jpg', '102.jpg', '067.jpg', '046.jpg', '078.jpg', '094.jpg', '071.jpg', '104.jpg', '121.jpg', '158.jpg', '154.jpg', '127.jpg', '131.jpg', '151.jpg', '156.jpg', '153.jpg', '113.jpg', '128.jpg', '142.jpg', '148.jpg', '120.jpg', '103.jpg', '129.jpg', '140.jpg', '123.jpg', '122.jpg', '114.jpg', '144.jpg', '132.jpg', '124.jpg', '116.jpg', '126.jpg', '110.jpg', '149.jpg', '119.jpg', '160.jpg', '107.jpg', '108.jpg', '138.jpg', '130.jpg', '155.jpg', '152.jpg', '118.jpg', '133.jpg', '112.jpg', '137.jpg', '136.jpg', '184.jpg', '219.jpg', '163.jpg', '198.jpg', '217.jpg', '212.jpg', '210.jpg', '183.jpg', '191.jpg', '190.jpg', '213.jpg', '176.jpg', '188.jpg', '216.jpg', '181.jpg', '202.jpg', '196.jpg', '174.jpg', '167.jpg', '172.jpg', '173.jpg', '194.jpg', '180.jpg', '162.jpg', '200.jpg', '215.jpg', '164.jpg', '182.jpg', '207.jpg', '195.jpg', '161.jpg', '197.jpg', '187.jpg', '220.jpg', '179.jpg', '175.jpg', '274.jpg', '243.jpg', '242.jpg', '256.jpg', '283.jpg', '252.jpg', '227.jpg', '223.jpg', '278.jpg', '257.jpg', '234.jpg', '282.jpg', '244.jpg', '241.jpg', '254.jpg', '235.jpg', '268.jpg', '271.jpg', '288.jpg', '265.jpg', '222.jpg', '263.jpg', '267.jpg', '259.jpg', '275.jpg', '228.jpg', '266.jpg', '251.jpg', '236.jpg', '249.jpg', '281.jpg', '224.jpg', '246.jpg', '221.jpg', '286.jpg', '262.jpg', '277.jpg', '245.jpg', '226.jpg', '292.jpg', '291.jpg', '289.jpg', '296.jpg', '295.jpg', '290.jpg', '293.jpg']\n",
            "Directory path:  /content/drive/My Drive/Data/FoodDataset/FoodDataset/dataset/Dataset/train/dhokla\n",
            "Folder name:  []\n",
            "File name:  ['046.jpg', '043.jpg', '029.jpg', '035.jpg', '021.jpg', '022.jpg', '045.jpg', '049.jpg', '025.jpg', '042.jpg', '036.jpg', '026.jpg', '024.jpg', '003.jpg', '001.jpg', '009.jpg', '006.jpg', '016.jpg', '044.jpg', '041.jpg', '038.jpg', '002.jpg', '030.jpg', '015.jpg', '017.jpg', '034.jpg', '040.jpg', '033.jpg', '032.jpg', '008.jpg', '018.jpg', '083.jpg', '077.jpg', '064.jpg', '101.jpg', '070.jpg', '092.jpg', '076.jpg', '099.jpg', '103.jpg', '104.jpg', '105.jpg', '068.jpg', '106.jpg', '087.jpg', '050.jpg', '061.jpg', '112.jpg', '067.jpg', '065.jpg', '094.jpg', '058.jpg', '074.jpg', '113.jpg', '100.jpg', '093.jpg', '060.jpg', '091.jpg', '075.jpg', '056.jpg', '054.jpg', '053.jpg', '052.jpg', '096.jpg', '063.jpg', '078.jpg', '114.jpg', '090.jpg', '071.jpg', '072.jpg', '097.jpg', '080.jpg', '089.jpg', '115.jpg', '121.jpg', '182.jpg', '180.jpg', '177.jpg', '130.jpg', '131.jpg', '151.jpg', '128.jpg', '159.jpg', '118.jpg', '152.jpg', '167.jpg', '122.jpg', '124.jpg', '153.jpg', '172.jpg', '161.jpg', '119.jpg', '126.jpg', '162.jpg', '171.jpg', '144.jpg', '142.jpg', '140.jpg', '133.jpg', '169.jpg', '154.jpg', '181.jpg', '138.jpg', '160.jpg', '120.jpg', '145.jpg', '137.jpg', '158.jpg', '176.jpg', '164.jpg', '132.jpg', '205.jpg', '201.jpg', '187.jpg', '191.jpg', '268.jpg', '260.jpg', '190.jpg', '217.jpg', '226.jpg', '258.jpg', '211.jpg', '183.jpg', '248.jpg', '198.jpg', '195.jpg', '257.jpg', '228.jpg', '232.jpg', '255.jpg', '220.jpg', '249.jpg', '243.jpg', '261.jpg', '207.jpg', '213.jpg', '215.jpg', '247.jpg', '265.jpg', '208.jpg', '212.jpg', '200.jpg', '237.jpg', '250.jpg', '236.jpg', '230.jpg', '223.jpg', '185.jpg', '194.jpg', '233.jpg', '256.jpg', '240.jpg', '196.jpg', '216.jpg', '202.jpg', '288.jpg', '289.jpg', '271.jpg', '274.jpg', '270.jpg', '285.jpg', '284.jpg', '282.jpg', '283.jpg', '273.jpg', '279.jpg', '280.jpg']\n",
            "Directory path:  /content/drive/My Drive/Data/FoodDataset/FoodDataset/dataset/Dataset/train/kaathi_rolls\n",
            "Folder name:  []\n",
            "File name:  ['024.jpg', '011.jpg', '005.jpg', '033.jpg', '018.jpg', '006.jpg', '015.jpg', '036.jpg', '038.jpg', '039.jpg', '034.jpg', '019.jpg', '030.jpg', '021.jpg', '003.jpg', '025.jpg', '017.jpg', '029.jpg', '041.jpg', '032.jpg', '040.jpg', '008.jpg', '002.jpg', '031.jpg', '027.jpg', '035.jpg', '016.jpg', '014.jpg', '026.jpg', '043.jpg', '022.jpg', '020.jpg', '042.jpg', '080.jpg', '075.jpg', '095.jpg', '060.jpg', '045.jpg', '049.jpg', '069.jpg', '090.jpg', '066.jpg', '083.jpg', '062.jpg', '044.jpg', '057.jpg', '076.jpg', '084.jpg', '065.jpg', '088.jpg', '068.jpg', '099.jpg', '087.jpg', '074.jpg', '058.jpg', '097.jpg', '050.jpg', '085.jpg', '046.jpg', '071.jpg', '091.jpg', '098.jpg', '052.jpg', '089.jpg', '077.jpg', '064.jpg', '067.jpg', '070.jpg', '094.jpg', '092.jpg', '082.jpg', '072.jpg', '100.jpg', '155.jpg', '128.jpg', '132.jpg', '105.jpg', '154.jpg', '123.jpg', '113.jpg', '108.jpg', '107.jpg', '103.jpg', '145.jpg', '152.jpg', '138.jpg', '121.jpg', '110.jpg', '102.jpg', '137.jpg', '114.jpg', '140.jpg', '158.jpg', '142.jpg', '126.jpg', '120.jpg', '118.jpg', '156.jpg', '122.jpg', '112.jpg', '119.jpg', '109.jpg', '127.jpg', '130.jpg', '131.jpg', '104.jpg', '149.jpg', '153.jpg', '167.jpg', '208.jpg', '212.jpg', '163.jpg', '165.jpg', '187.jpg', '184.jpg', '160.jpg', '159.jpg', '180.jpg', '206.jpg', '183.jpg', '185.jpg', '198.jpg', '211.jpg', '202.jpg', '164.jpg', '197.jpg', '218.jpg', '162.jpg', '176.jpg', '201.jpg', '179.jpg', '216.jpg', '161.jpg', '213.jpg', '175.jpg', '210.jpg', '182.jpg', '177.jpg', '181.jpg', '200.jpg', '221.jpg', '172.jpg', '207.jpg', '173.jpg', '190.jpg', '214.jpg', '219.jpg', '286.jpg', '292.jpg', '257.jpg', '225.jpg', '248.jpg', '254.jpg', '290.jpg', '232.jpg', '255.jpg', '224.jpg', '261.jpg', '236.jpg', '243.jpg', '249.jpg', '237.jpg', '245.jpg', '263.jpg', '247.jpg', '238.jpg', '288.jpg', '262.jpg', '251.jpg', '239.jpg', '278.jpg', '227.jpg', '222.jpg', '291.jpg', '279.jpg', '289.jpg', '256.jpg', '231.jpg', '250.jpg', '259.jpg', '233.jpg', '241.jpg', '272.jpg', '283.jpg', '230.jpg', '264.jpg', '269.jpg', '234.jpg', '293.jpg', '360.jpg', '361.jpg']\n",
            "Directory path:  /content/drive/My Drive/Data/FoodDataset/FoodDataset/dataset/Dataset/train/butter_naan\n",
            "Folder name:  []\n",
            "File name:  ['001.jpg', '034.jpg', '043.jpg', '044.jpg', '025.jpg', '055.jpg', '056.jpg', '046.jpg', '033.jpg', '059.jpg', '058.jpg', '002.jpg', '017.jpg', '061.jpg', '038.jpg', '052.jpg', '012.jpg', '004.jpg', '016.jpg', '021.jpg', '030.jpg', '048.jpg', '008.jpg', '049.jpg', '003.jpg', '020.jpg', '032.jpg', '029.jpg', '019.jpg', '060.jpg', '045.jpg', '027.jpg', '053.jpg', '018.jpg', '042.jpg', '036.jpg', '047.jpg', '005.jpg', '022.jpg', '006.jpg', '091.jpg', '070.jpg', '088.jpg', '071.jpg', '096.jpg', '066.jpg', '094.jpg', '064.jpg', '103.jpg', '073.jpg', '082.jpg', '062.jpg', '087.jpg', '109.jpg', '092.jpg', '072.jpg', '102.jpg', '086.jpg', '075.jpg', '104.jpg', '068.jpg', '116.jpg', '077.jpg', '105.jpg', '078.jpg', '069.jpg', '081.jpg', '097.jpg', '099.jpg', '076.jpg', '107.jpg', '079.jpg', '112.jpg', '089.jpg', '114.jpg', '108.jpg', '143.jpg', '166.jpg', '167.jpg', '126.jpg', '160.jpg', '129.jpg', '157.jpg', '124.jpg', '144.jpg', '168.jpg', '138.jpg', '137.jpg', '148.jpg', '122.jpg', '151.jpg', '131.jpg', '150.jpg', '171.jpg', '154.jpg', '173.jpg', '121.jpg', '159.jpg', '134.jpg', '147.jpg', '155.jpg', '123.jpg', '170.jpg', '125.jpg', '164.jpg', '120.jpg', '136.jpg', '169.jpg', '145.jpg', '130.jpg', '127.jpg', '140.jpg', '172.jpg', '165.jpg', '141.jpg', '194.jpg', '178.jpg', '219.jpg', '212.jpg', '177.jpg', '218.jpg', '186.jpg', '195.jpg', '197.jpg', '223.jpg', '180.jpg', '207.jpg', '208.jpg', '198.jpg', '182.jpg', '216.jpg', '217.jpg', '200.jpg', '205.jpg', '220.jpg', '188.jpg', '189.jpg', '179.jpg', '181.jpg', '224.jpg', '196.jpg', '183.jpg', '203.jpg', '221.jpg', '227.jpg', '199.jpg', '193.jpg', '215.jpg', '191.jpg', '206.jpg', '204.jpg', '174.jpg', '210.jpg', '213.jpg', '175.jpg', '279.jpg', '269.jpg', '249.jpg', '284.jpg', '272.jpg', '238.jpg', '246.jpg', '266.jpg', '252.jpg', '228.jpg', '229.jpg', '262.jpg', '278.jpg', '257.jpg', '267.jpg', '268.jpg', '242.jpg', '255.jpg', '261.jpg', '264.jpg', '240.jpg', '283.jpg', '248.jpg', '280.jpg', '230.jpg', '245.jpg', '247.jpg', '274.jpg', '259.jpg', '237.jpg', '231.jpg', '243.jpg', '282.jpg', '281.jpg', '276.jpg', '315.jpg', '289.jpg', '310.jpg', '326.jpg', '316.jpg', '305.jpg', '309.jpg', '329.jpg', '308.jpg', '321.jpg', '297.jpg', '312.jpg', '292.jpg', '322.jpg', '290.jpg', '303.jpg', '314.jpg', '313.jpg', '307.jpg', '319.jpg', '311.jpg', '327.jpg', '300.jpg', '324.jpg', '318.jpg', '296.jpg', '285.jpg']\n",
            "Directory path:  /content/drive/My Drive/Data/FoodDataset/FoodDataset/dataset/Dataset/train/chai\n",
            "Folder name:  []\n",
            "File name:  ['006.jpg', '005.jpg', '008.jpg', '014.jpg', '002.jpg', '001.jpg', '004.jpg', '012.jpg', '003.jpg', '011.jpg', '058.jpg', '018.jpg', '068.jpg', '047.jpg', '049.jpg', '027.jpg', '030.jpg', '053.jpg', '051.jpg', '040.jpg', '039.jpg', '034.jpg', '046.jpg', '055.jpg', '066.jpg', '048.jpg', '038.jpg', '060.jpg', '065.jpg', '032.jpg', '020.jpg', '033.jpg', '015.jpg', '017.jpg', '056.jpg', '050.jpg', '016.jpg', '062.jpg', '019.jpg', '063.jpg', '025.jpg', '042.jpg', '045.jpg', '064.jpg', '021.jpg', '043.jpg', '052.jpg', '044.jpg', '059.jpg', '124.jpg', '075.jpg', '126.jpg', '112.jpg', '096.jpg', '127.jpg', '073.jpg', '107.jpg', '114.jpg', '116.jpg', '094.jpg', '088.jpg', '111.jpg', '091.jpg', '108.jpg', '092.jpg', '123.jpg', '070.jpg', '109.jpg', '105.jpg', '119.jpg', '120.jpg', '125.jpg', '104.jpg', '086.jpg', '090.jpg', '085.jpg', '072.jpg', '098.jpg', '071.jpg', '131.jpg', '102.jpg', '079.jpg', '087.jpg', '115.jpg', '128.jpg', '069.jpg', '076.jpg', '121.jpg', '082.jpg', '074.jpg', '173.jpg', '175.jpg', '177.jpg', '158.jpg', '161.jpg', '134.jpg', '181.jpg', '182.jpg', '179.jpg', '149.jpg', '133.jpg', '163.jpg', '143.jpg', '180.jpg', '141.jpg', '154.jpg', '153.jpg', '151.jpg', '138.jpg', '171.jpg', '183.jpg', '137.jpg', '174.jpg', '155.jpg', '156.jpg', '166.jpg', '164.jpg', '170.jpg', '152.jpg', '167.jpg', '147.jpg', '160.jpg', '157.jpg', '176.jpg', '139.jpg', '159.jpg', '169.jpg', '212.jpg', '224.jpg', '229.jpg', '204.jpg', '218.jpg', '243.jpg', '236.jpg', '186.jpg', '189.jpg', '202.jpg', '244.jpg', '238.jpg', '211.jpg', '227.jpg', '200.jpg', '233.jpg', '190.jpg', '242.jpg', '239.jpg', '217.jpg', '223.jpg', '196.jpg', '188.jpg', '198.jpg', '240.jpg', '199.jpg', '241.jpg', '185.jpg', '230.jpg', '205.jpg', '206.jpg', '208.jpg', '231.jpg', '192.jpg', '216.jpg', '201.jpg', '225.jpg', '203.jpg', '213.jpg', '184.jpg', '191.jpg', '245.jpg', '284.jpg', '305.jpg', '280.jpg', '266.jpg', '260.jpg', '275.jpg', '294.jpg', '259.jpg', '295.jpg', '311.jpg', '265.jpg', '300.jpg', '293.jpg', '256.jpg', '287.jpg', '298.jpg', '302.jpg', '269.jpg', '297.jpg', '258.jpg', '276.jpg', '306.jpg', '283.jpg', '247.jpg', '308.jpg', '257.jpg', '253.jpg', '261.jpg', '289.jpg', '273.jpg', '291.jpg', '304.jpg', '272.jpg', '307.jpg', '251.jpg', '252.jpg', '279.jpg', '249.jpg', '301.jpg', '248.jpg', '262.jpg', '348.jpg', '353.jpg', '360.jpg', '357.jpg', '320.jpg', '355.jpg', '351.jpg', '319.jpg', '378.jpg', '343.jpg', '341.jpg', '338.jpg', '312.jpg', '375.jpg', '363.jpg', '362.jpg', '323.jpg', '366.jpg', '376.jpg', '329.jpg', '354.jpg', '368.jpg', '326.jpg', '352.jpg', '314.jpg', '337.jpg', '339.jpg', '359.jpg', '321.jpg', '358.jpg', '371.jpg', '380.jpg', '346.jpg', '336.jpg', '379.jpg', '374.jpg', '317.jpg']\n",
            "Directory path:  /content/drive/My Drive/Data/FoodDataset/FoodDataset/dataset/Dataset/train/burger\n",
            "Folder name:  []\n",
            "File name:  ['017.jpg', '014.jpg', '002.jpg', '001.jpg', '022.jpg', '005.jpg', '004.jpg', '003.jpg', '006.jpg', '011.jpg', '015.jpg', '008.jpg', '019.jpg', '020.jpg', '012.jpg', '026.jpg', '046.jpg', '076.jpg', '070.jpg', '061.jpg', '059.jpg', '031.jpg', '043.jpg', '064.jpg', '060.jpg', '027.jpg', '055.jpg', '071.jpg', '067.jpg', '034.jpg', '063.jpg', '056.jpg', '033.jpg', '032.jpg', '072.jpg', '052.jpg', '078.jpg', '048.jpg', '058.jpg', '074.jpg', '057.jpg', '041.jpg', '077.jpg', '053.jpg', '062.jpg', '051.jpg', '039.jpg', '049.jpg', '079.jpg', '047.jpg', '036.jpg', '045.jpg', '038.jpg', '042.jpg', '069.jpg', '073.jpg', '025.jpg', '029.jpg', '035.jpg', '040.jpg', '030.jpg', '097.jpg', '096.jpg', '129.jpg', '104.jpg', '114.jpg', '088.jpg', '080.jpg', '103.jpg', '089.jpg', '090.jpg', '124.jpg', '140.jpg', '100.jpg', '120.jpg', '128.jpg', '083.jpg', '087.jpg', '136.jpg', '116.jpg', '119.jpg', '121.jpg', '099.jpg', '123.jpg', '086.jpg', '106.jpg', '112.jpg', '084.jpg', '094.jpg', '109.jpg', '138.jpg', '135.jpg', '082.jpg', '107.jpg', '092.jpg', '132.jpg', '126.jpg', '127.jpg', '131.jpg', '111.jpg', '102.jpg', '108.jpg', '133.jpg', '122.jpg', '098.jpg', '137.jpg', '147.jpg', '153.jpg', '162.jpg', '181.jpg', '145.jpg', '190.jpg', '155.jpg', '144.jpg', '167.jpg', '171.jpg', '148.jpg', '156.jpg', '177.jpg', '173.jpg', '191.jpg', '188.jpg', '194.jpg', '142.jpg', '200.jpg', '158.jpg', '174.jpg', '175.jpg', '160.jpg', '179.jpg', '198.jpg', '197.jpg', '154.jpg', '157.jpg', '176.jpg', '178.jpg', '186.jpg', '169.jpg', '164.jpg', '163.jpg', '184.jpg', '152.jpg', '159.jpg', '165.jpg', '151.jpg', '183.jpg', '196.jpg', '187.jpg', '172.jpg', '141.jpg', '149.jpg', '180.jpg', '245.jpg', '213.jpg', '246.jpg', '240.jpg', '211.jpg', '247.jpg', '208.jpg', '248.jpg', '229.jpg', '230.jpg', '220.jpg', '251.jpg', '228.jpg', '219.jpg', '217.jpg', '203.jpg', '216.jpg', '252.jpg', '234.jpg', '205.jpg', '250.jpg', '206.jpg', '242.jpg', '218.jpg', '233.jpg', '235.jpg', '201.jpg', '237.jpg', '202.jpg', '223.jpg', '226.jpg', '221.jpg', '244.jpg', '224.jpg', '215.jpg', '238.jpg', '239.jpg', '225.jpg', '243.jpg', '204.jpg', '227.jpg', '258.jpg', '278.jpg', '255.jpg', '288.jpg', '300.jpg', '299.jpg', '302.jpg', '254.jpg', '283.jpg', '286.jpg', '303.jpg', '285.jpg', '281.jpg', '297.jpg', '296.jpg', '253.jpg', '274.jpg', '261.jpg', '267.jpg', '265.jpg', '292.jpg', '257.jpg', '275.jpg', '291.jpg', '309.jpg', '307.jpg', '289.jpg', '269.jpg', '306.jpg', '273.jpg', '280.jpg', '276.jpg', '279.jpg', '308.jpg', '256.jpg', '305.jpg', '259.jpg', '266.jpg', '272.jpg', '263.jpg']\n",
            "Directory path:  /content/drive/My Drive/Data/FoodDataset/FoodDataset/test\n",
            "Folder name:  ['kaathi_rolls', 'samosa', 'kulfi', 'pizza', 'paani_puri', 'pav_bhaji', 'momos', 'masala_dosa', 'pakode', 'kadai_paneer', 'dhokla', 'chai', 'jalebi', 'dal_makhani', 'burger', 'idli', 'fried_rice', 'chole_bhature', 'chapati', 'butter_naan']\n",
            "File name:  []\n",
            "Directory path:  /content/drive/My Drive/Data/FoodDataset/FoodDataset/test/kaathi_rolls\n",
            "Folder name:  []\n",
            "File name:  ['download (1).jpg', 'download (3).jpg', 'download (2).jpg', 'download (4).jpg', 'images.jpg', 'images (15).jpg', 'images (12).jpg', 'images (3).jpg', 'download (7).jpg', 'images (9).jpg', 'images (10).jpg', 'images (16).jpg', 'images (5).jpg', 'download.jpg', 'download (8).jpg', 'images (2).jpg', 'images (1).jpg', 'images (6).jpg', 'images (4).jpg', 'images (17).jpg', 'images (13).jpg', 'images (8).jpg', 'images (14).jpg', 'download (9).jpg', 'images (7).jpg', 'download (6).jpg', 'download (5).jpg']\n",
            "Directory path:  /content/drive/My Drive/Data/FoodDataset/FoodDataset/test/samosa\n",
            "Folder name:  []\n",
            "File name:  ['download (5).jpg', 'download (1).jpg', 'download (4).jpg', 'download (2).jpg', 'download (3).jpg', 'images (1).jpg', 'images (21).jpg', 'images (11).jpg', 'images (6).jpg', 'images (17).jpg', 'download.jpg', 'images (20).jpg', 'images (13).jpg', 'images (3).jpg', 'images (12).jpg', 'images (14).jpg', 'images (15).jpg', 'images (5).jpg', 'download (6).jpg', 'images (22).jpg', 'images.jpg', 'images (4).jpg', 'images (7).jpg', 'images (18).jpg', 'images (16).jpg', 'images (19).jpg', 'images (8).jpg', 'images (9).jpg', 'images (2).jpg', 'images (10).jpg']\n",
            "Directory path:  /content/drive/My Drive/Data/FoodDataset/FoodDataset/test/kulfi\n",
            "Folder name:  []\n",
            "File name:  ['images (25).jpg', 'images (14).jpg', 'images (11).jpg', 'images (5).jpg', 'images (8).jpg', 'images (1).jpg', 'images.jpg', 'images (20).jpg', 'images (17).jpg', 'images (19).jpg', 'download (4).jpg', 'download.jpg', 'images (18).jpg', 'images (12).jpg', 'images (16).jpg', 'download (1).jpg', 'images (21).jpg', 'images (9).jpg', 'images (23).jpg', 'images (6).jpg', 'images (15).jpg', 'images (7).jpg', 'images (4).jpg', 'images (13).jpg', 'images (3).jpg', 'download (2).jpg', 'images (2).jpg', 'images (22).jpg', 'download (3).jpg', 'images (24).jpg', 'images (10).jpg']\n",
            "Directory path:  /content/drive/My Drive/Data/FoodDataset/FoodDataset/test/pizza\n",
            "Folder name:  []\n",
            "File name:  ['images (16).jpg', 'images (13).jpg', 'images (8).jpg', 'images (21).jpg', 'images (1).jpg', 'images (3).jpg', 'download.jpg', 'images (9).jpg', 'download (5).jpg', 'download (4).jpg', 'images (7).jpg', 'images (20).jpg', 'images (4).jpg', 'download (7).jpg', 'download (3).jpg', 'images (19).jpg', 'images (14).jpg', 'download (1).jpg', 'images (12).jpg', 'images (15).jpg', 'images (18).jpg', 'images (22).jpg', 'download (2).jpg', 'images (11).jpg', 'images (10).jpg', 'download (6).jpg', 'images (6).jpg', 'images (2).jpg', 'images (17).jpg', 'images.jpg', 'images (5).jpg']\n",
            "Directory path:  /content/drive/My Drive/Data/FoodDataset/FoodDataset/test/paani_puri\n",
            "Folder name:  []\n",
            "File name:  ['images (16).jpg', 'download (2).jpg', 'download (4).jpg', 'download (1).jpg', 'download (3).jpg', 'images (13).jpg', 'images (6).jpg', 'download (6).jpg', 'download (10).jpg', 'images (17).jpg', 'images (11).jpg', 'images (15).jpg', 'download (9).jpg', 'images (2).jpg', 'download.jpg', 'images (3).jpg', 'download (5).jpg', 'images (18).jpg', 'images (4).jpg', 'images (7).jpg', 'images (8).jpg', 'download (8).jpg', 'images (14).jpg', 'images (12).jpg', 'images (5).jpg', 'images (10).jpg', 'images (9).jpg', 'images.jpg', 'download (7).jpg', 'images (1).jpg']\n",
            "Directory path:  /content/drive/My Drive/Data/FoodDataset/FoodDataset/test/pav_bhaji\n",
            "Folder name:  []\n",
            "File name:  ['images (11).jpg', 'images (2).jpg', 'download (8).jpg', 'images (14).jpg', 'images (21).jpg', 'download (7).jpg', 'images (1).jpg', 'images (19).jpg', 'images (22).jpg', 'download (3).jpg', 'images (17).jpg', 'images (15).jpg', 'download (4).jpg', 'images (13).jpg', 'images (18).jpg', 'download (5).jpg', 'images (20).jpg', 'download (6).jpg', 'images (16).jpg', 'images (12).jpg', 'images (10).jpg', 'download.jpg', 'download (2).jpg', 'download (1).jpg', 'images (9).jpg', 'images (6).jpg', 'images (5).jpg', 'images (8).jpg', 'images (4).jpg', 'images (7).jpg', 'images (23).jpg', 'images (24).jpg', 'images (3).jpg', 'images.jpg']\n",
            "Directory path:  /content/drive/My Drive/Data/FoodDataset/FoodDataset/test/momos\n",
            "Folder name:  []\n",
            "File name:  ['images (17).jpg', 'images (5).jpg', 'download (8).jpg', 'download (1).jpg', 'images (6).jpg', 'download (5).jpg', 'images (19).jpg', 'download (2).jpg', 'download (6).jpg', 'images (4).jpg', 'download (3).jpg', 'images (11).jpg', 'images (10).jpg', 'images (13).jpg', 'download (4).jpg', 'images (20).jpg', 'images (12).jpg', 'images (2).jpg', 'images (3).jpg', 'images (15).jpg', 'images (18).jpg', 'images (16).jpg', 'download.jpg', 'download (7).jpg', 'images (1).jpg', 'images (14).jpg', 'images (9).jpg', 'images (7).jpg', 'images (8).jpg', 'images.jpg']\n",
            "Directory path:  /content/drive/My Drive/Data/FoodDataset/FoodDataset/test/masala_dosa\n",
            "Folder name:  []\n",
            "File name:  ['download (1).jpg', 'download (3).jpg', 'download (7).jpg', 'download (6).jpg', 'download.jpg', 'download (8).jpg', 'download (4).jpg', 'download (5).jpg', 'download (2).jpg', 'images (9).jpg', 'images (2).jpg', 'images (8).jpg', 'images.jpg', 'images (15).jpg', 'images (5).jpg', 'images (12).jpg', 'images (17).jpg', 'images (16).jpg', 'images (6).jpg', 'images (11).jpg', 'images (4).jpg', 'images (1).jpg', 'images (18).jpg', 'images (14).jpg', 'images (13).jpg', 'images (7).jpg', 'images (3).jpg', 'images (10).jpg', 'images (19).jpg']\n",
            "Directory path:  /content/drive/My Drive/Data/FoodDataset/FoodDataset/test/pakode\n",
            "Folder name:  []\n",
            "File name:  ['images (11).jpg', 'download (5).jpg', 'download (2).jpg', 'download.jpg', 'download (6).jpg', 'images (12).jpg', 'images (1).jpg', 'download (1).jpg', 'download (7).jpg', 'download (3).jpg', 'download (4).jpg', 'images (10).jpg', 'images (14).jpg', 'images (18).jpg', 'images (23).jpg', 'images (17).jpg', 'images (19).jpg', 'images (22).jpg', 'images (15).jpg', 'images (6).jpg', 'images (5).jpg', 'images (9).jpg', 'images (8).jpg', 'images (4).jpg', 'images (3).jpg', 'images (21).jpg', 'images (13).jpg', 'images (2).jpg', 'images (20).jpg', 'images (16).jpg', 'images.jpg', 'images (7).jpg']\n",
            "Directory path:  /content/drive/My Drive/Data/FoodDataset/FoodDataset/test/kadai_paneer\n",
            "Folder name:  []\n",
            "File name:  ['download (6).jpg', 'images (11).jpg', 'images (17).jpg', 'images (13).jpg', 'images (2).jpg', 'images (14).jpg', 'download (1).jpg', 'images (16).jpg', 'download (3).jpg', 'images (12).jpg', 'images (18).jpg', 'download (8).jpg', 'download (5).jpg', 'images (10).jpg', 'images (1).jpg', 'download (7).jpg', 'download.jpg', 'download (4).jpg', 'download (2).jpg', 'images (15).jpg', 'images (3).jpg', 'images.jpg', 'images (4).jpg', 'images (6).jpg', 'images (5).jpg', 'images (9).jpg', 'images (7).jpg', 'images (8).jpg']\n",
            "Directory path:  /content/drive/My Drive/Data/FoodDataset/FoodDataset/test/dhokla\n",
            "Folder name:  []\n",
            "File name:  ['images (9).jpg', 'images (12).jpg', 'images (14).jpg', 'download (6).jpg', 'download (2).jpg', 'images (8).jpg', 'images (13).jpg', 'images (4).jpg', 'images (10).jpg', 'download (3).jpg', 'images (6).jpg', 'images (1).jpg', 'images.jpg', 'images (7).jpg', 'download (5).jpg', 'download.jpg', 'images (2).jpg', 'images (5).jpg', 'download (1).jpg', 'images (3).jpg', 'download (4).jpg', 'download (7).jpg', 'images (11).jpg']\n",
            "Directory path:  /content/drive/My Drive/Data/FoodDataset/FoodDataset/test/chai\n",
            "Folder name:  []\n",
            "File name:  ['download (1).jpg', 'download (11).jpg', 'images (15).jpg', 'images (9).jpg', 'images (8).jpg', 'download (4).jpg', 'images (17).jpg', 'images (12).jpg', 'download (5).jpg', 'images (1).jpg', 'download (7).jpg', 'images (6).jpg', 'download (6).jpg', 'download (3).jpg', 'images (3).jpg', 'images (5).jpg', 'images (13).jpg', 'images (14).jpg', 'download.jpg', 'images (16).jpg', 'images (7).jpg', 'download (9).jpg', 'download (8).jpg', 'images (10).jpg', 'images.jpg', 'images (11).jpg', 'download (2).jpg', 'images (2).jpg', 'download (10).jpg', 'images (4).jpg']\n",
            "Directory path:  /content/drive/My Drive/Data/FoodDataset/FoodDataset/test/jalebi\n",
            "Folder name:  []\n",
            "File name:  ['images.jpg', 'images (12).jpg', 'download (7).jpg', 'images (1).jpg', 'images (2).jpg', 'images (13).jpg', 'images (7).jpg', 'download (6).jpg', 'download (2).jpg', 'images (6).jpg', 'images (8).jpg', 'download (11).jpg', 'download (9).jpg', 'download (4).jpg', 'images (5).jpg', 'download (3).jpg', 'download (10).jpg', 'download.jpg', 'images (9).jpg', 'images (14).jpg', 'download (5).jpg', 'download (12).jpg', 'images (3).jpg', 'download (13).jpg', 'download (1).jpg', 'images (11).jpg', 'images (10).jpg', 'download (8).jpg', 'images (4).jpg']\n",
            "Directory path:  /content/drive/My Drive/Data/FoodDataset/FoodDataset/test/dal_makhani\n",
            "Folder name:  []\n",
            "File name:  ['download (2).jpg', 'download (1).jpg', 'download (3).jpg', 'download (7).jpg', 'images (1).jpg', 'images (7).jpg', 'images (4).jpg', 'images.jpg', 'images (8).jpg', 'download (4).jpg', 'download (6).jpg', 'images (11).jpg', 'images (13).jpg', 'download.jpg', 'images (10).jpg', 'images (2).jpg', 'images (6).jpg', 'images (16).jpg', 'images (5).jpg', 'images (9).jpg', 'download (5).jpg', 'images (14).jpg', 'images (3).jpg', 'images (15).jpg', 'images (12).jpg']\n",
            "Directory path:  /content/drive/My Drive/Data/FoodDataset/FoodDataset/test/burger\n",
            "Folder name:  []\n",
            "File name:  ['download (3).jpg', 'images (14).jpg', 'images (11).jpg', 'images (18).jpg', 'images (16).jpg', 'download (2).jpg', 'images (12).jpg', 'images (13).jpg', 'images (1).jpg', 'images (10).jpg', 'images (19).jpg', 'images (17).jpg', 'download.jpg', 'download (1).jpg', 'download (4).jpg', 'images (15).jpg', 'images (6).jpg', 'images (3).jpg', 'images (9).jpg', 'images (20).jpg', 'images (4).jpg', 'images (5).jpg', 'images.jpg', 'images (25).jpg', 'images (8).jpg', 'images (22).jpg', 'images (21).jpg', 'images (7).jpg', 'images (24).jpg', 'images (2).jpg', 'images (23).jpg']\n",
            "Directory path:  /content/drive/My Drive/Data/FoodDataset/FoodDataset/test/idli\n",
            "Folder name:  []\n",
            "File name:  ['images (1).jpg', 'download (6).jpg', 'download (7).jpg', 'images (15).jpg', 'images (13).jpg', 'images (17).jpg', 'images (14).jpg', 'download (2).jpg', 'download (3).jpg', 'images (18).jpg', 'images (10).jpg', 'download (5).jpg', 'download (1).jpg', 'download.jpg', 'images (16).jpg', 'images (11).jpg', 'images (12).jpg', 'download (4).jpg', 'images (19).jpg', 'images (2).jpg', 'images (9).jpg', 'images (6).jpg', 'images (7).jpg', 'images (3).jpg', 'images (8).jpg', 'images.jpg', 'images (4).jpg', 'images (5).jpg']\n",
            "Directory path:  /content/drive/My Drive/Data/FoodDataset/FoodDataset/test/fried_rice\n",
            "Folder name:  []\n",
            "File name:  ['download (1).jpg', 'download (4).jpg', 'images (12).jpg', 'download.jpg', 'images (5).jpg', 'images (8).jpg', 'images.jpg', 'download (9).jpg', 'download (8).jpg', 'images (4).jpg', 'images (2).jpg', 'download (7).jpg', 'download (2).jpg', 'download (6).jpg', 'images (9).jpg', 'download (5).jpg', 'download (10).jpg', 'images (7).jpg', 'images (11).jpg', 'images (6).jpg', 'images (3).jpg', 'download (3).jpg', 'download (11).jpg', 'images (10).jpg', 'images (13).jpg', 'download (12).jpg', 'images (1).jpg', 'download (13).jpg']\n",
            "Directory path:  /content/drive/My Drive/Data/FoodDataset/FoodDataset/test/chole_bhature\n",
            "Folder name:  []\n",
            "File name:  ['download (12).jpg', 'download (2).jpg', 'images (7).jpg', 'images (10).jpg', 'download (1).jpg', 'download (7).jpg', 'images (11).jpg', 'download (11).jpg', 'images (15).jpg', 'images (12).jpg', 'download (9).jpg', 'images (8).jpg', 'images (9).jpg', 'images (13).jpg', 'download (6).jpg', 'download (13).jpg', 'images (14).jpg', 'images.jpg', 'download (10).jpg', 'images (5).jpg', 'images (4).jpg', 'download (8).jpg', 'download (3).jpg', 'images (3).jpg', 'download.jpg', 'download (5).jpg', 'download (14).jpg', 'images (2).jpg', 'download (4).jpg', 'images (16).jpg', 'images (6).jpg', 'images (1).jpg']\n",
            "Directory path:  /content/drive/My Drive/Data/FoodDataset/FoodDataset/test/chapati\n",
            "Folder name:  []\n",
            "File name:  ['images (1).jpg', 'download (1).jpg', 'download (4).jpg', 'download.jpg', 'download (2).jpg', 'images (15).jpg', 'images (10).jpg', 'download (3).jpg', 'images (13).jpg', 'images (16).jpg', 'images (18).jpg', 'images (12).jpg', 'images (14).jpg', 'images (19).jpg', 'images (17).jpg', 'images (11).jpg', 'images.jpg', 'images (20).jpg', 'images (7).jpg', 'images (5).jpg', 'images (4).jpg', 'images (21).jpg', 'images (2).jpg', 'images (6).jpg', 'images (9).jpg', 'images (8).jpg', 'images (3).jpg', 'images (22).jpg']\n",
            "Directory path:  /content/drive/My Drive/Data/FoodDataset/FoodDataset/test/butter_naan\n",
            "Folder name:  []\n",
            "File name:  ['images (1).jpg', 'download (7).jpg', 'images (3).jpg', 'images (8).jpg', 'download (8).jpg', 'download (4).jpg', 'images (2).jpg', 'download (14).jpg', 'images (7).jpg', 'download (13).jpg', 'images (6).jpg', 'download (10).jpg', 'download (11).jpg', 'download (5).jpg', 'download (15).jpg', 'images (4).jpg', 'download (1).jpg', 'download (12).jpg', 'images (10).jpg', 'download.jpg', 'images.jpg', 'download (9).jpg', 'download (3).jpg', 'images (9).jpg', 'images (5).jpg', 'download (6).jpg', 'download (2).jpg', 'images (11).jpg', 'images (12).jpg']\n",
            "Directory path:  /content/drive/My Drive/Data/FoodDataset/FoodDataset/Model\n",
            "Folder name:  ['v1_inceptionV3']\n",
            "File name:  ['__notebook_source__.ipynb', 'history_v1_inceptionV3.log', 'model_v1_inceptionV3.h5', 'model_v1_inceptionV3.hdf5']\n",
            "Directory path:  /content/drive/My Drive/Data/FoodDataset/FoodDataset/Model/v1_inceptionV3\n",
            "Folder name:  ['variables']\n",
            "File name:  ['saved_model.pb']\n",
            "Directory path:  /content/drive/My Drive/Data/FoodDataset/FoodDataset/Model/v1_inceptionV3/variables\n",
            "Folder name:  []\n",
            "File name:  ['variables.data-00000-of-00001', 'variables.index']\n"
          ]
        }
      ]
    },
    {
      "cell_type": "code",
      "source": [
        "import os\n",
        "def walk_through_dir(dir_path):\n",
        "    for dirpath, dirnames, filenames in os.walk(dir_path):\n",
        "        print(f\"There are {len(dirnames)} directories and {len(filenames)} images in '{dirpath}'.\")"
      ],
      "metadata": {
        "id": "44lpMKlw_Tjd"
      },
      "execution_count": 6,
      "outputs": []
    },
    {
      "cell_type": "code",
      "source": [
        "from pathlib import Path\n",
        "\n",
        "# Setup path to data folder\n",
        "data_path = Path(\"/content/drive/My Drive/Data/FoodDataset/\")\n",
        "image_path = data_path / \"FoodDataset\"\n",
        "walk_through_dir(image_path)"
      ],
      "metadata": {
        "colab": {
          "base_uri": "https://localhost:8080/"
        },
        "id": "hk-4ugqd_Uls",
        "outputId": "74ef300c-191a-4d50-fdf9-bf0289dafed9"
      },
      "execution_count": 7,
      "outputs": [
        {
          "output_type": "stream",
          "name": "stdout",
          "text": [
            "There are 3 directories and 0 images in '/content/drive/My Drive/Data/FoodDataset/FoodDataset'.\n",
            "There are 1 directories and 0 images in '/content/drive/My Drive/Data/FoodDataset/FoodDataset/dataset'.\n",
            "There are 2 directories and 0 images in '/content/drive/My Drive/Data/FoodDataset/FoodDataset/dataset/Dataset'.\n",
            "There are 20 directories and 0 images in '/content/drive/My Drive/Data/FoodDataset/FoodDataset/dataset/Dataset/val'.\n",
            "There are 0 directories and 51 images in '/content/drive/My Drive/Data/FoodDataset/FoodDataset/dataset/Dataset/val/samosa'.\n",
            "There are 0 directories and 60 images in '/content/drive/My Drive/Data/FoodDataset/FoodDataset/dataset/Dataset/val/pizza'.\n",
            "There are 0 directories and 61 images in '/content/drive/My Drive/Data/FoodDataset/FoodDataset/dataset/Dataset/val/pav_bhaji'.\n",
            "There are 0 directories and 59 images in '/content/drive/My Drive/Data/FoodDataset/FoodDataset/dataset/Dataset/val/pakode'.\n",
            "There are 0 directories and 29 images in '/content/drive/My Drive/Data/FoodDataset/FoodDataset/dataset/Dataset/val/paani_puri'.\n",
            "There are 0 directories and 67 images in '/content/drive/My Drive/Data/FoodDataset/FoodDataset/dataset/Dataset/val/idli'.\n",
            "There are 0 directories and 78 images in '/content/drive/My Drive/Data/FoodDataset/FoodDataset/dataset/Dataset/val/kadai_paneer'.\n",
            "There are 0 directories and 68 images in '/content/drive/My Drive/Data/FoodDataset/FoodDataset/dataset/Dataset/val/momos'.\n",
            "There are 0 directories and 61 images in '/content/drive/My Drive/Data/FoodDataset/FoodDataset/dataset/Dataset/val/kaathi_rolls'.\n",
            "There are 0 directories and 66 images in '/content/drive/My Drive/Data/FoodDataset/FoodDataset/dataset/Dataset/val/jalebi'.\n",
            "There are 0 directories and 49 images in '/content/drive/My Drive/Data/FoodDataset/FoodDataset/dataset/Dataset/val/kulfi'.\n",
            "There are 0 directories and 60 images in '/content/drive/My Drive/Data/FoodDataset/FoodDataset/dataset/Dataset/val/masala_dosa'.\n",
            "There are 0 directories and 72 images in '/content/drive/My Drive/Data/FoodDataset/FoodDataset/dataset/Dataset/val/fried_rice'.\n",
            "There are 0 directories and 67 images in '/content/drive/My Drive/Data/FoodDataset/FoodDataset/dataset/Dataset/val/dal_makhani'.\n",
            "There are 0 directories and 55 images in '/content/drive/My Drive/Data/FoodDataset/FoodDataset/dataset/Dataset/val/dhokla'.\n",
            "There are 0 directories and 83 images in '/content/drive/My Drive/Data/FoodDataset/FoodDataset/dataset/Dataset/val/chole_bhature'.\n",
            "There are 0 directories and 69 images in '/content/drive/My Drive/Data/FoodDataset/FoodDataset/dataset/Dataset/val/chapati'.\n",
            "There are 0 directories and 67 images in '/content/drive/My Drive/Data/FoodDataset/FoodDataset/dataset/Dataset/val/chai'.\n",
            "There are 0 directories and 61 images in '/content/drive/My Drive/Data/FoodDataset/FoodDataset/dataset/Dataset/val/butter_naan'.\n",
            "There are 0 directories and 67 images in '/content/drive/My Drive/Data/FoodDataset/FoodDataset/dataset/Dataset/val/burger'.\n",
            "There are 20 directories and 0 images in '/content/drive/My Drive/Data/FoodDataset/FoodDataset/dataset/Dataset/train'.\n",
            "There are 0 directories and 210 images in '/content/drive/My Drive/Data/FoodDataset/FoodDataset/dataset/Dataset/train/pav_bhaji'.\n",
            "There are 0 directories and 179 images in '/content/drive/My Drive/Data/FoodDataset/FoodDataset/dataset/Dataset/train/pakode'.\n",
            "There are 0 directories and 184 images in '/content/drive/My Drive/Data/FoodDataset/FoodDataset/dataset/Dataset/train/pizza'.\n",
            "There are 0 directories and 225 images in '/content/drive/My Drive/Data/FoodDataset/FoodDataset/dataset/Dataset/train/momos'.\n",
            "There are 0 directories and 164 images in '/content/drive/My Drive/Data/FoodDataset/FoodDataset/dataset/Dataset/train/samosa'.\n",
            "There are 0 directories and 85 images in '/content/drive/My Drive/Data/FoodDataset/FoodDataset/dataset/Dataset/train/paani_puri'.\n",
            "There are 0 directories and 134 images in '/content/drive/My Drive/Data/FoodDataset/FoodDataset/dataset/Dataset/train/kulfi'.\n",
            "There are 0 directories and 187 images in '/content/drive/My Drive/Data/FoodDataset/FoodDataset/dataset/Dataset/train/masala_dosa'.\n",
            "There are 0 directories and 228 images in '/content/drive/My Drive/Data/FoodDataset/FoodDataset/dataset/Dataset/train/kadai_paneer'.\n",
            "There are 0 directories and 230 images in '/content/drive/My Drive/Data/FoodDataset/FoodDataset/dataset/Dataset/train/chapati'.\n",
            "There are 0 directories and 203 images in '/content/drive/My Drive/Data/FoodDataset/FoodDataset/dataset/Dataset/train/dal_makhani'.\n",
            "There are 0 directories and 250 images in '/content/drive/My Drive/Data/FoodDataset/FoodDataset/dataset/Dataset/train/fried_rice'.\n",
            "There are 0 directories and 207 images in '/content/drive/My Drive/Data/FoodDataset/FoodDataset/dataset/Dataset/train/idli'.\n",
            "There are 0 directories and 261 images in '/content/drive/My Drive/Data/FoodDataset/FoodDataset/dataset/Dataset/train/chole_bhature'.\n",
            "There are 0 directories and 194 images in '/content/drive/My Drive/Data/FoodDataset/FoodDataset/dataset/Dataset/train/jalebi'.\n",
            "There are 0 directories and 167 images in '/content/drive/My Drive/Data/FoodDataset/FoodDataset/dataset/Dataset/train/dhokla'.\n",
            "There are 0 directories and 191 images in '/content/drive/My Drive/Data/FoodDataset/FoodDataset/dataset/Dataset/train/kaathi_rolls'.\n",
            "There are 0 directories and 217 images in '/content/drive/My Drive/Data/FoodDataset/FoodDataset/dataset/Dataset/train/butter_naan'.\n",
            "There are 0 directories and 247 images in '/content/drive/My Drive/Data/FoodDataset/FoodDataset/dataset/Dataset/train/chai'.\n",
            "There are 0 directories and 233 images in '/content/drive/My Drive/Data/FoodDataset/FoodDataset/dataset/Dataset/train/burger'.\n",
            "There are 20 directories and 0 images in '/content/drive/My Drive/Data/FoodDataset/FoodDataset/test'.\n",
            "There are 0 directories and 27 images in '/content/drive/My Drive/Data/FoodDataset/FoodDataset/test/kaathi_rolls'.\n",
            "There are 0 directories and 30 images in '/content/drive/My Drive/Data/FoodDataset/FoodDataset/test/samosa'.\n",
            "There are 0 directories and 31 images in '/content/drive/My Drive/Data/FoodDataset/FoodDataset/test/kulfi'.\n",
            "There are 0 directories and 31 images in '/content/drive/My Drive/Data/FoodDataset/FoodDataset/test/pizza'.\n",
            "There are 0 directories and 30 images in '/content/drive/My Drive/Data/FoodDataset/FoodDataset/test/paani_puri'.\n",
            "There are 0 directories and 34 images in '/content/drive/My Drive/Data/FoodDataset/FoodDataset/test/pav_bhaji'.\n",
            "There are 0 directories and 30 images in '/content/drive/My Drive/Data/FoodDataset/FoodDataset/test/momos'.\n",
            "There are 0 directories and 29 images in '/content/drive/My Drive/Data/FoodDataset/FoodDataset/test/masala_dosa'.\n",
            "There are 0 directories and 32 images in '/content/drive/My Drive/Data/FoodDataset/FoodDataset/test/pakode'.\n",
            "There are 0 directories and 28 images in '/content/drive/My Drive/Data/FoodDataset/FoodDataset/test/kadai_paneer'.\n",
            "There are 0 directories and 23 images in '/content/drive/My Drive/Data/FoodDataset/FoodDataset/test/dhokla'.\n",
            "There are 0 directories and 30 images in '/content/drive/My Drive/Data/FoodDataset/FoodDataset/test/chai'.\n",
            "There are 0 directories and 29 images in '/content/drive/My Drive/Data/FoodDataset/FoodDataset/test/jalebi'.\n",
            "There are 0 directories and 25 images in '/content/drive/My Drive/Data/FoodDataset/FoodDataset/test/dal_makhani'.\n",
            "There are 0 directories and 31 images in '/content/drive/My Drive/Data/FoodDataset/FoodDataset/test/burger'.\n",
            "There are 0 directories and 28 images in '/content/drive/My Drive/Data/FoodDataset/FoodDataset/test/idli'.\n",
            "There are 0 directories and 28 images in '/content/drive/My Drive/Data/FoodDataset/FoodDataset/test/fried_rice'.\n",
            "There are 0 directories and 32 images in '/content/drive/My Drive/Data/FoodDataset/FoodDataset/test/chole_bhature'.\n",
            "There are 0 directories and 28 images in '/content/drive/My Drive/Data/FoodDataset/FoodDataset/test/chapati'.\n",
            "There are 0 directories and 29 images in '/content/drive/My Drive/Data/FoodDataset/FoodDataset/test/butter_naan'.\n",
            "There are 1 directories and 4 images in '/content/drive/My Drive/Data/FoodDataset/FoodDataset/Model'.\n",
            "There are 1 directories and 1 images in '/content/drive/My Drive/Data/FoodDataset/FoodDataset/Model/v1_inceptionV3'.\n",
            "There are 0 directories and 2 images in '/content/drive/My Drive/Data/FoodDataset/FoodDataset/Model/v1_inceptionV3/variables'.\n"
          ]
        }
      ]
    },
    {
      "cell_type": "code",
      "source": [
        "# Setup train and testing paths\n",
        "train_dir = image_path / \"dataset/Dataset/train\"\n",
        "test_dir = image_path / \"dataset/Dataset/val\"\n",
        "\n",
        "train_dir, test_dir"
      ],
      "metadata": {
        "colab": {
          "base_uri": "https://localhost:8080/"
        },
        "id": "2me_XswL_Xq5",
        "outputId": "ee10dcfa-ccb0-4fce-d851-c5845b18a88c"
      },
      "execution_count": 8,
      "outputs": [
        {
          "output_type": "execute_result",
          "data": {
            "text/plain": [
              "(PosixPath('/content/drive/My Drive/Data/FoodDataset/FoodDataset/dataset/Dataset/train'),\n",
              " PosixPath('/content/drive/My Drive/Data/FoodDataset/FoodDataset/dataset/Dataset/val'))"
            ]
          },
          "metadata": {},
          "execution_count": 8
        }
      ]
    },
    {
      "cell_type": "markdown",
      "source": [
        "#2. Create Datasets and DataLoaders"
      ],
      "metadata": {
        "id": "qAnl0Jek-FQW"
      }
    },
    {
      "cell_type": "code",
      "source": [
        "# Create image size (from Table 3 in the ViT paper) \n",
        "IMG_SIZE = 224\n",
        "\n",
        "# Create transform pipeline manually\n",
        "manual_transforms = transforms.Compose([\n",
        "    transforms.Resize((IMG_SIZE, IMG_SIZE)),\n",
        "    transforms.ToTensor(),\n",
        "])           \n",
        "print(f\"Manually created transforms: {manual_transforms}\")"
      ],
      "metadata": {
        "colab": {
          "base_uri": "https://localhost:8080/"
        },
        "id": "jMNNL2gZ_hD0",
        "outputId": "63960f43-3cb5-4e95-8a56-0a4095836fab"
      },
      "execution_count": 9,
      "outputs": [
        {
          "output_type": "stream",
          "name": "stdout",
          "text": [
            "Manually created transforms: Compose(\n",
            "    Resize(size=(224, 224), interpolation=bilinear, max_size=None, antialias=None)\n",
            "    ToTensor()\n",
            ")\n"
          ]
        }
      ]
    },
    {
      "cell_type": "code",
      "source": [
        "# Set the batch size\n",
        "BATCH_SIZE = 32 # this is lower than the ViT paper but it's because we're starting small\n",
        "\n",
        "# Create data loaders\n",
        "train_dataloader, test_dataloader, class_names = data_setup.create_dataloaders(\n",
        "    train_dir=train_dir,\n",
        "    test_dir=test_dir,\n",
        "    transform=manual_transforms, # use manually created transforms\n",
        "    batch_size=BATCH_SIZE\n",
        ")\n",
        "\n",
        "train_dataloader, test_dataloader, class_names"
      ],
      "metadata": {
        "colab": {
          "base_uri": "https://localhost:8080/"
        },
        "id": "NDwqM8HK_h85",
        "outputId": "27f9d0f5-8983-4e47-c842-488caa745077"
      },
      "execution_count": 10,
      "outputs": [
        {
          "output_type": "execute_result",
          "data": {
            "text/plain": [
              "(<torch.utils.data.dataloader.DataLoader at 0x7f852d05cb90>,\n",
              " <torch.utils.data.dataloader.DataLoader at 0x7f852c9696d0>,\n",
              " ['burger',\n",
              "  'butter_naan',\n",
              "  'chai',\n",
              "  'chapati',\n",
              "  'chole_bhature',\n",
              "  'dal_makhani',\n",
              "  'dhokla',\n",
              "  'fried_rice',\n",
              "  'idli',\n",
              "  'jalebi',\n",
              "  'kaathi_rolls',\n",
              "  'kadai_paneer',\n",
              "  'kulfi',\n",
              "  'masala_dosa',\n",
              "  'momos',\n",
              "  'paani_puri',\n",
              "  'pakode',\n",
              "  'pav_bhaji',\n",
              "  'pizza',\n",
              "  'samosa'])"
            ]
          },
          "metadata": {},
          "execution_count": 10
        }
      ]
    },
    {
      "cell_type": "code",
      "source": [
        "# Get a batch of images\n",
        "image_batch, label_batch = next(iter(train_dataloader))\n",
        "\n",
        "# Get a single image from the batch\n",
        "image, label = image_batch[0], label_batch[0]\n",
        "\n",
        "# View the batch shapes\n",
        "image.shape, label\n",
        "\n",
        "# Find why is the label's tensor is of varying size?"
      ],
      "metadata": {
        "colab": {
          "base_uri": "https://localhost:8080/"
        },
        "id": "sQoaAvEMC1QR",
        "outputId": "3e6c3cb3-264b-4bae-b0b2-d1327c12da25"
      },
      "execution_count": 11,
      "outputs": [
        {
          "output_type": "execute_result",
          "data": {
            "text/plain": [
              "(torch.Size([3, 224, 224]), tensor(8))"
            ]
          },
          "metadata": {},
          "execution_count": 11
        }
      ]
    },
    {
      "cell_type": "code",
      "source": [
        "# Plot image with matplotlib\n",
        "plt.imshow(image.permute(1, 2, 0)) # rearrange image dimensions to suit matplotlib [color_channels, height, width] -> [height, width, color_channels]\n",
        "plt.title(class_names[label])\n",
        "plt.axis(False);"
      ],
      "metadata": {
        "colab": {
          "base_uri": "https://localhost:8080/",
          "height": 264
        },
        "id": "STBtdfSrC2ly",
        "outputId": "6959dbd2-571a-43fd-bf4f-22103f764aa8"
      },
      "execution_count": 12,
      "outputs": [
        {
          "output_type": "display_data",
          "data": {
            "text/plain": [
              "<Figure size 432x288 with 1 Axes>"
            ],
            "image/png": "[encoded data removed]"
          },
          "metadata": {
            "needs_background": "light"
          }
        }
      ]
    },
    {
      "cell_type": "markdown",
      "source": [
        "# 3. Use Pretrained ViT from TorchVision.Models"
      ],
      "metadata": {
        "id": "z1nmSqDQ-IPE"
      }
    },
    {
      "cell_type": "code",
      "source": [
        "# The following requires torch v0.12+ and torchvision v0.13+\n",
        "import torch\n",
        "import torchvision\n",
        "print(torch.__version__) \n",
        "print(torchvision.__version__)"
      ],
      "metadata": {
        "colab": {
          "base_uri": "https://localhost:8080/"
        },
        "id": "mPDPjXtuC8lT",
        "outputId": "a7ed1b3a-d50f-46c0-fe3f-e0d2d418f2f1"
      },
      "execution_count": 13,
      "outputs": [
        {
          "output_type": "stream",
          "name": "stdout",
          "text": [
            "1.12.1+cu113\n",
            "0.13.1+cu113\n"
          ]
        }
      ]
    },
    {
      "cell_type": "code",
      "source": [
        "device = \"cuda\" if torch.cuda.is_available() else \"cpu\"\n",
        "device"
      ],
      "metadata": {
        "colab": {
          "base_uri": "https://localhost:8080/",
          "height": 36
        },
        "id": "GMGQUKZhDAml",
        "outputId": "73cb76d6-d8b3-49b2-b908-c3b7ccf7e6b5"
      },
      "execution_count": 14,
      "outputs": [
        {
          "output_type": "execute_result",
          "data": {
            "text/plain": [
              "'cuda'"
            ],
            "application/vnd.google.colaboratory.intrinsic+json": {
              "type": "string"
            }
          },
          "metadata": {},
          "execution_count": 14
        }
      ]
    },
    {
      "cell_type": "code",
      "source": [
        "# 1. Get pretrained weights for ViT-Base\n",
        "pretrained_vit_weights = torchvision.models.ViT_B_16_Weights.DEFAULT # requires torchvision >= 0.13, \"DEFAULT\" means best available\n",
        "\n",
        "# 2. Setup a ViT model instance with pretrained weights\n",
        "pretrained_vit = torchvision.models.vit_b_16(weights=pretrained_vit_weights).to(device)\n",
        "\n",
        "# 3. Freeze the base parameters\n",
        "for parameter in pretrained_vit.parameters():\n",
        "    parameter.requires_grad = False\n",
        "    \n",
        "# 4. Change the classifier head (set the seeds to ensure same initialization with linear head)\n",
        "set_seeds()\n",
        "pretrained_vit.heads = nn.Linear(in_features=768, out_features=len(class_names)).to(device)\n",
        "# pretrained_vit # uncomment for model output"
      ],
      "metadata": {
        "colab": {
          "base_uri": "https://localhost:8080/",
          "height": 87,
          "referenced_widgets": [
            "12fe5079b97b4a1cbd0be41cecbdd561",
            "f0ab9c772b284b429158d03076cbd31f",
            "d78b4037ac85430f947e9d1fe413986e",
            "d34ca9103fea4425ba5f145099a94c77",
            "446398bfffa84a23b9be1afa33b2462b",
            "b237ccaf198b4bf78d5172b1bf4df5f2",
            "2896fa60e0154e0ebcb5cae1deab45cc",
            "0d2aa20139364ac0b6bb1d5446870c47",
            "256c6e46dd0f4ee1bbc004604530416a",
            "c113b6890af0422295968e6d1c8555bc",
            "3426a8e7046e4fa68c5c9b27ceed07ef"
          ]
        },
        "id": "SO2oVhPEDC-m",
        "outputId": "f0f2225f-c554-4e99-948d-ba9d99018315"
      },
      "execution_count": 15,
      "outputs": [
        {
          "output_type": "stream",
          "name": "stderr",
          "text": [
            "Downloading: \"https://download.pytorch.org/models/vit_b_16-c867db91.pth\" to /root/.cache/torch/hub/checkpoints/vit_b_16-c867db91.pth\n"
          ]
        },
        {
          "output_type": "display_data",
          "data": {
            "text/plain": [
              "  0%|          | 0.00/330M [00:00<?, ?B/s]"
            ],
            "application/vnd.jupyter.widget-view+json": {
              "version_major": 2,
              "version_minor": 0,
              "model_id": "12fe5079b97b4a1cbd0be41cecbdd561"
            }
          },
          "metadata": {}
        }
      ]
    },
    {
      "cell_type": "code",
      "source": [],
      "metadata": {
        "id": "nXovQ5DzNa8d"
      },
      "execution_count": null,
      "outputs": []
    },
    {
      "cell_type": "code",
      "source": [
        "# Get automatic transforms from pretrained ViT weights\n",
        "pretrained_vit_transforms = pretrained_vit_weights.transforms()\n",
        "print(pretrained_vit_transforms)"
      ],
      "metadata": {
        "colab": {
          "base_uri": "https://localhost:8080/"
        },
        "id": "_LlzDxdHNHyN",
        "outputId": "32c30910-170a-4592-e8b3-35d5910e58e4"
      },
      "execution_count": 16,
      "outputs": [
        {
          "output_type": "stream",
          "name": "stdout",
          "text": [
            "ImageClassification(\n",
            "    crop_size=[224]\n",
            "    resize_size=[256]\n",
            "    mean=[0.485, 0.456, 0.406]\n",
            "    std=[0.229, 0.224, 0.225]\n",
            "    interpolation=InterpolationMode.BILINEAR\n",
            ")\n"
          ]
        }
      ]
    },
    {
      "cell_type": "code",
      "source": [
        "# Setup dataloaders\n",
        "train_dataloader_pretrained, test_dataloader_pretrained, class_names = data_setup.create_dataloaders(train_dir=train_dir,\n",
        "                                                                                                     test_dir=test_dir,\n",
        "                                                                                                     transform=pretrained_vit_transforms,\n",
        "                                                                                                     batch_size=32) # Could increase if we had more samples, such as here: https://arxiv.org/abs/2205.01580 (there are other improvements there too...)\n"
      ],
      "metadata": {
        "id": "oEUXFx0lNQrb"
      },
      "execution_count": 17,
      "outputs": []
    },
    {
      "cell_type": "code",
      "source": [
        "# # Print a summary using torchinfo (uncomment for actual output)\n",
        "summary(model=pretrained_vit, \n",
        "         input_size=(32, 3, 224, 224), # (batch_size, color_channels, height, width)\n",
        "         # col_names=[\"input_size\"], # uncomment for smaller output\n",
        "         col_names=[\"input_size\", \"output_size\", \"num_params\", \"trainable\"],\n",
        "         col_width=20,\n",
        "         row_settings=[\"var_names\"]\n",
        " )"
      ],
      "metadata": {
        "colab": {
          "base_uri": "https://localhost:8080/"
        },
        "id": "d7Eag4B5NczK",
        "outputId": "32f9537a-ffc9-4946-9426-6cca634a9919"
      },
      "execution_count": 18,
      "outputs": [
        {
          "output_type": "execute_result",
          "data": {
            "text/plain": [
              "======================================================================================================================================================\n",
              "Layer (type (var_name))                                                Input Shape          Output Shape         Param #              Trainable\n",
              "======================================================================================================================================================\n",
              "VisionTransformer (VisionTransformer)                                  [32, 3, 224, 224]    [32, 20]             768                  Partial\n",
              "├─Conv2d (conv_proj)                                                   [32, 3, 224, 224]    [32, 768, 14, 14]    (590,592)            False\n",
              "├─Encoder (encoder)                                                    [32, 197, 768]       [32, 197, 768]       151,296              False\n",
              "│    └─Dropout (dropout)                                               [32, 197, 768]       [32, 197, 768]       --                   --\n",
              "│    └─Sequential (layers)                                             [32, 197, 768]       [32, 197, 768]       --                   False\n",
              "│    │    └─EncoderBlock (encoder_layer_0)                             [32, 197, 768]       [32, 197, 768]       (7,087,872)          False\n",
              "│    │    └─EncoderBlock (encoder_layer_1)                             [32, 197, 768]       [32, 197, 768]       (7,087,872)          False\n",
              "│    │    └─EncoderBlock (encoder_layer_2)                             [32, 197, 768]       [32, 197, 768]       (7,087,872)          False\n",
              "│    │    └─EncoderBlock (encoder_layer_3)                             [32, 197, 768]       [32, 197, 768]       (7,087,872)          False\n",
              "│    │    └─EncoderBlock (encoder_layer_4)                             [32, 197, 768]       [32, 197, 768]       (7,087,872)          False\n",
              "│    │    └─EncoderBlock (encoder_layer_5)                             [32, 197, 768]       [32, 197, 768]       (7,087,872)          False\n",
              "│    │    └─EncoderBlock (encoder_layer_6)                             [32, 197, 768]       [32, 197, 768]       (7,087,872)          False\n",
              "│    │    └─EncoderBlock (encoder_layer_7)                             [32, 197, 768]       [32, 197, 768]       (7,087,872)          False\n",
              "│    │    └─EncoderBlock (encoder_layer_8)                             [32, 197, 768]       [32, 197, 768]       (7,087,872)          False\n",
              "│    │    └─EncoderBlock (encoder_layer_9)                             [32, 197, 768]       [32, 197, 768]       (7,087,872)          False\n",
              "│    │    └─EncoderBlock (encoder_layer_10)                            [32, 197, 768]       [32, 197, 768]       (7,087,872)          False\n",
              "│    │    └─EncoderBlock (encoder_layer_11)                            [32, 197, 768]       [32, 197, 768]       (7,087,872)          False\n",
              "│    └─LayerNorm (ln)                                                  [32, 197, 768]       [32, 197, 768]       (1,536)              False\n",
              "├─Linear (heads)                                                       [32, 768]            [32, 20]             15,380               True\n",
              "======================================================================================================================================================\n",
              "Total params: 85,814,036\n",
              "Trainable params: 15,380\n",
              "Non-trainable params: 85,798,656\n",
              "Total mult-adds (G): 5.52\n",
              "======================================================================================================================================================\n",
              "Input size (MB): 19.27\n",
              "Forward/backward pass size (MB): 3330.74\n",
              "Params size (MB): 257.60\n",
              "Estimated Total Size (MB): 3607.61\n",
              "======================================================================================================================================================"
            ]
          },
          "metadata": {},
          "execution_count": 18
        }
      ]
    },
    {
      "cell_type": "code",
      "source": [
        "from going_modular.going_modular import engine\n",
        "\n",
        "# Create optimizer and loss function\n",
        "optimizer = torch.optim.Adam(params=pretrained_vit.parameters(), \n",
        "                             lr=1e-3)\n",
        "loss_fn = torch.nn.CrossEntropyLoss()\n",
        "\n",
        "# Train the classifier head of the pretrained ViT feature extractor model\n",
        "set_seeds()\n",
        "pretrained_vit_results = engine.train(model=pretrained_vit,\n",
        "                                      train_dataloader=train_dataloader_pretrained,\n",
        "                                      test_dataloader=test_dataloader_pretrained,\n",
        "                                      optimizer=optimizer,\n",
        "                                      loss_fn=loss_fn,\n",
        "                                      epochs=10,\n",
        "                                      device=device)"
      ],
      "metadata": {
        "colab": {
          "base_uri": "https://localhost:8080/",
          "height": 974,
          "referenced_widgets": [
            "de4ce845b7fa40548fbbf01f05df6fb5",
            "a8d50fa5b33f4d4da1ce8dfd3838089c",
            "72934e98b70e4a168602f0d59dc45df8",
            "68eb3520030b41fca1b951ef1a662725",
            "827a2980cf204f77b6c5f0d2cf4bc214",
            "856a3f07d2df4df1b8c9d657bf30b44a",
            "44f4e1b655644b8db675b9d87e8600f7",
            "cb94f9d3ebfb42bcb7f5a261a68a5c83",
            "7a7e79fb0faa461b98364479afcc3c2c",
            "88dfbf82a33d4e79b8e798c9cd64f4c2",
            "42ca4d7c71a146eea13ad06a3dbf3061"
          ]
        },
        "id": "-ibGImk7NtnR",
        "outputId": "ebea13c6-64c8-474a-9a75-78954e176a37"
      },
      "execution_count": 19,
      "outputs": [
        {
          "output_type": "display_data",
          "data": {
            "text/plain": [
              "  0%|          | 0/10 [00:00<?, ?it/s]"
            ],
            "application/vnd.jupyter.widget-view+json": {
              "version_major": 2,
              "version_minor": 0,
              "model_id": "de4ce845b7fa40548fbbf01f05df6fb5"
            }
          },
          "metadata": {}
        },
        {
          "output_type": "stream",
          "name": "stderr",
          "text": [
            "/usr/local/lib/python3.7/dist-packages/PIL/TiffImagePlugin.py:788: UserWarning: Corrupt EXIF data.  Expecting to read 12 bytes but only got 10. \n",
            "  warnings.warn(str(msg))\n",
            "/usr/local/lib/python3.7/dist-packages/PIL/TiffImagePlugin.py:788: UserWarning: Corrupt EXIF data.  Expecting to read 4 bytes but only got 0. \n",
            "  warnings.warn(str(msg))\n"
          ]
        },
        {
          "output_type": "stream",
          "name": "stdout",
          "text": [
            "Epoch: 1 | train_loss: 0.9892 | train_acc: 0.7799 | test_loss: 0.5093 | test_acc: 0.8953\n"
          ]
        },
        {
          "output_type": "stream",
          "name": "stderr",
          "text": [
            "/usr/local/lib/python3.7/dist-packages/PIL/TiffImagePlugin.py:788: UserWarning: Corrupt EXIF data.  Expecting to read 4 bytes but only got 0. \n",
            "  warnings.warn(str(msg))\n",
            "/usr/local/lib/python3.7/dist-packages/PIL/TiffImagePlugin.py:788: UserWarning: Corrupt EXIF data.  Expecting to read 12 bytes but only got 10. \n",
            "  warnings.warn(str(msg))\n"
          ]
        },
        {
          "output_type": "stream",
          "name": "stdout",
          "text": [
            "Epoch: 2 | train_loss: 0.3471 | train_acc: 0.9259 | test_loss: 0.3718 | test_acc: 0.9109\n"
          ]
        },
        {
          "output_type": "stream",
          "name": "stderr",
          "text": [
            "/usr/local/lib/python3.7/dist-packages/PIL/TiffImagePlugin.py:788: UserWarning: Corrupt EXIF data.  Expecting to read 4 bytes but only got 0. \n",
            "  warnings.warn(str(msg))\n",
            "/usr/local/lib/python3.7/dist-packages/PIL/TiffImagePlugin.py:788: UserWarning: Corrupt EXIF data.  Expecting to read 12 bytes but only got 10. \n",
            "  warnings.warn(str(msg))\n"
          ]
        },
        {
          "output_type": "stream",
          "name": "stdout",
          "text": [
            "Epoch: 3 | train_loss: 0.2408 | train_acc: 0.9499 | test_loss: 0.3057 | test_acc: 0.9195\n"
          ]
        },
        {
          "output_type": "stream",
          "name": "stderr",
          "text": [
            "/usr/local/lib/python3.7/dist-packages/PIL/TiffImagePlugin.py:788: UserWarning: Corrupt EXIF data.  Expecting to read 12 bytes but only got 10. \n",
            "  warnings.warn(str(msg))\n",
            "/usr/local/lib/python3.7/dist-packages/PIL/TiffImagePlugin.py:788: UserWarning: Corrupt EXIF data.  Expecting to read 4 bytes but only got 0. \n",
            "  warnings.warn(str(msg))\n"
          ]
        },
        {
          "output_type": "stream",
          "name": "stdout",
          "text": [
            "Epoch: 4 | train_loss: 0.1834 | train_acc: 0.9607 | test_loss: 0.2757 | test_acc: 0.9250\n"
          ]
        },
        {
          "output_type": "stream",
          "name": "stderr",
          "text": [
            "/usr/local/lib/python3.7/dist-packages/PIL/TiffImagePlugin.py:788: UserWarning: Corrupt EXIF data.  Expecting to read 4 bytes but only got 0. \n",
            "  warnings.warn(str(msg))\n",
            "/usr/local/lib/python3.7/dist-packages/PIL/TiffImagePlugin.py:788: UserWarning: Corrupt EXIF data.  Expecting to read 12 bytes but only got 10. \n",
            "  warnings.warn(str(msg))\n"
          ]
        },
        {
          "output_type": "stream",
          "name": "stdout",
          "text": [
            "Epoch: 5 | train_loss: 0.1467 | train_acc: 0.9722 | test_loss: 0.2576 | test_acc: 0.9320\n"
          ]
        },
        {
          "output_type": "stream",
          "name": "stderr",
          "text": [
            "/usr/local/lib/python3.7/dist-packages/PIL/TiffImagePlugin.py:788: UserWarning: Corrupt EXIF data.  Expecting to read 4 bytes but only got 0. \n",
            "  warnings.warn(str(msg))\n",
            "/usr/local/lib/python3.7/dist-packages/PIL/TiffImagePlugin.py:788: UserWarning: Corrupt EXIF data.  Expecting to read 12 bytes but only got 10. \n",
            "  warnings.warn(str(msg))\n"
          ]
        },
        {
          "output_type": "stream",
          "name": "stdout",
          "text": [
            "Epoch: 6 | train_loss: 0.1199 | train_acc: 0.9785 | test_loss: 0.2466 | test_acc: 0.9305\n"
          ]
        },
        {
          "output_type": "stream",
          "name": "stderr",
          "text": [
            "/usr/local/lib/python3.7/dist-packages/PIL/TiffImagePlugin.py:788: UserWarning: Corrupt EXIF data.  Expecting to read 12 bytes but only got 10. \n",
            "  warnings.warn(str(msg))\n",
            "/usr/local/lib/python3.7/dist-packages/PIL/TiffImagePlugin.py:788: UserWarning: Corrupt EXIF data.  Expecting to read 4 bytes but only got 0. \n",
            "  warnings.warn(str(msg))\n"
          ]
        },
        {
          "output_type": "stream",
          "name": "stdout",
          "text": [
            "Epoch: 7 | train_loss: 0.1010 | train_acc: 0.9815 | test_loss: 0.2413 | test_acc: 0.9320\n"
          ]
        },
        {
          "output_type": "stream",
          "name": "stderr",
          "text": [
            "/usr/local/lib/python3.7/dist-packages/PIL/TiffImagePlugin.py:788: UserWarning: Corrupt EXIF data.  Expecting to read 4 bytes but only got 0. \n",
            "  warnings.warn(str(msg))\n",
            "/usr/local/lib/python3.7/dist-packages/PIL/TiffImagePlugin.py:788: UserWarning: Corrupt EXIF data.  Expecting to read 12 bytes but only got 10. \n",
            "  warnings.warn(str(msg))\n"
          ]
        },
        {
          "output_type": "stream",
          "name": "stdout",
          "text": [
            "Epoch: 8 | train_loss: 0.0848 | train_acc: 0.9870 | test_loss: 0.2298 | test_acc: 0.9352\n"
          ]
        },
        {
          "output_type": "stream",
          "name": "stderr",
          "text": [
            "/usr/local/lib/python3.7/dist-packages/PIL/TiffImagePlugin.py:788: UserWarning: Corrupt EXIF data.  Expecting to read 12 bytes but only got 10. \n",
            "  warnings.warn(str(msg))\n",
            "/usr/local/lib/python3.7/dist-packages/PIL/TiffImagePlugin.py:788: UserWarning: Corrupt EXIF data.  Expecting to read 4 bytes but only got 0. \n",
            "  warnings.warn(str(msg))\n"
          ]
        },
        {
          "output_type": "stream",
          "name": "stdout",
          "text": [
            "Epoch: 9 | train_loss: 0.0719 | train_acc: 0.9912 | test_loss: 0.2285 | test_acc: 0.9344\n"
          ]
        },
        {
          "output_type": "stream",
          "name": "stderr",
          "text": [
            "/usr/local/lib/python3.7/dist-packages/PIL/TiffImagePlugin.py:788: UserWarning: Corrupt EXIF data.  Expecting to read 4 bytes but only got 0. \n",
            "  warnings.warn(str(msg))\n",
            "/usr/local/lib/python3.7/dist-packages/PIL/TiffImagePlugin.py:788: UserWarning: Corrupt EXIF data.  Expecting to read 12 bytes but only got 10. \n",
            "  warnings.warn(str(msg))\n"
          ]
        },
        {
          "output_type": "stream",
          "name": "stdout",
          "text": [
            "Epoch: 10 | train_loss: 0.0626 | train_acc: 0.9922 | test_loss: 0.2226 | test_acc: 0.9336\n"
          ]
        }
      ]
    },
    {
      "cell_type": "code",
      "source": [
        "\"\"\"\n",
        "# Save the model\n",
        "from going_modular.going_modular import utils\n",
        "\n",
        "utils.save_model(model=pretrained_vit,\n",
        "                 target_dir=\"models\",\n",
        "                 model_name=\"ViT_XRay_Covid_nonCovid.pth\")\n",
        "                 \"\"\"\n",
        "torch.save(pretrained_vit, '/content/drive/My Drive/Models/IndianFoodClassification/ViT-Indianfood.pth')"
      ],
      "metadata": {
        "id": "Tj3QIwX7Zn5X"
      },
      "execution_count": 20,
      "outputs": []
    },
    {
      "cell_type": "code",
      "source": [
        "from pathlib import Path\n",
        "\n",
        "# Get the model size in bytes then convert to megabytes\n",
        "pretrained_vit_model_size = Path(\"/content/drive/My Drive/Models/IndianFoodClassification/ViT-Indianfood.pth\").stat().st_size // (1024*1024) # division converts bytes to megabytes (roughly) \n",
        "print(f\"Pretrained ViT feature extractor model size: {pretrained_vit_model_size} MB\")"
      ],
      "metadata": {
        "colab": {
          "base_uri": "https://localhost:8080/"
        },
        "id": "HjiEc8d3Zop9",
        "outputId": "84f95f32-a2b5-4300-be73-4c85b6831387"
      },
      "execution_count": 21,
      "outputs": [
        {
          "output_type": "stream",
          "name": "stdout",
          "text": [
            "Pretrained ViT feature extractor model size: 327 MB\n"
          ]
        }
      ]
    },
    {
      "cell_type": "markdown",
      "source": [
        "#4. Make Predictions on a Custom Image[link text]"
      ],
      "metadata": {
        "id": "GoLL8V4u-PhV"
      }
    },
    {
      "cell_type": "code",
      "source": [
        "from torchvision import io\n",
        "def pred_and_plot_image(model: torch.nn.Module, \n",
        "                        image_path: str, \n",
        "                        class_names,\n",
        "                        transform=None,\n",
        "                        device: torch.device = device):\n",
        "    \"\"\"Makes a prediction on a target image and plots the image with its prediction.\"\"\"\n",
        "    \n",
        "    # 1. Load in image and convert the tensor values to float32\n",
        "    mode = io.image.ImageReadMode.RGB\n",
        "    target_image = torchvision.io.read_image(str(image_path),mode).type(torch.float32)\n",
        "    \n",
        "    # 2. Divide the image pixel values by 255 to get them between [0, 1]\n",
        "    target_image = target_image / 255. \n",
        "    \n",
        "    # 3. Transform if necessary\n",
        "    if transform:\n",
        "        target_image = transform(target_image)\n",
        "    \n",
        "    # 4. Make sure the model is on the target device\n",
        "    model.to(device)\n",
        "    \n",
        "    # 5. Turn on model evaluation mode and inference mode\n",
        "    model.eval()\n",
        "    with torch.inference_mode():\n",
        "        # Add an extra dimension to the image\n",
        "        target_image = target_image.unsqueeze(dim=0)\n",
        "    \n",
        "        # Make a prediction on image with an extra dimension and send it to the target device\n",
        "        target_image_pred = model(target_image.to(device))\n",
        "        \n",
        "    # 6. Convert logits -> prediction probabilities (using torch.softmax() for multi-class classification)\n",
        "    target_image_pred_probs = torch.softmax(target_image_pred, dim=1)\n",
        "\n",
        "    # 7. Convert prediction probabilities -> prediction labels\n",
        "    target_image_pred_label = torch.argmax(target_image_pred_probs, dim=1)\n",
        "    \n",
        "    # 8. Plot the image alongside the prediction and prediction probability\n",
        "    plt.imshow(target_image.squeeze().permute(1, 2, 0)) # make sure it's the right size for matplotlib\n",
        "    if class_names:\n",
        "        title = f\"Pred: {class_names[target_image_pred_label.cpu()]} | Prob: {target_image_pred_probs.max().cpu():.3f}\"\n",
        "    else: \n",
        "        title = f\"Pred: {target_image_pred_label} | Prob: {target_image_pred_probs.max().cpu():.3f}\"\n",
        "    plt.title(title)\n",
        "    plt.axis(False);"
      ],
      "metadata": {
        "id": "_QZ8viBzNAZH"
      },
      "execution_count": 22,
      "outputs": []
    },
    {
      "cell_type": "code",
      "source": [
        "import requests\n",
        "\n",
        "# Import function to make predictions on images and plot them \n",
        "\n",
        "\n",
        "# setup custom image path\n",
        "\n",
        "#custom_image_path2 = '/content/drive/My Drive/Data/CustomImageTest/NORMAL(110).jpg'\n",
        "#custom_image_path2 = '/content/drive/My Drive/Data/CustomImageTest/NORMAL(143).jpg'\n",
        "#custom_image_path2 = '/content/drive/My Drive/Data/XRay/XRayExtract/Test/non_COVID/NORMAL(64).jpg'\n",
        "#custom_image_path2 = '/content/drive/My Drive/Data/XRay/XRayExtract/Test/COVID/COVID-19 (353).jpg'\n",
        "#custom_image_path2 = '/content/drive/My Drive/Data/CustomImageTest/COVID-19 (353).jpg'\n",
        "#custom_image_path2 = '/content/drive/My Drive/Data/CustomImageTest/COVID-19 (439).jpg'\n",
        "#custom_image_path2 = '/content/drive/My Drive/Data/CustomImageTest/COVID-19 (609).jpg'\n",
        "\n",
        "\n",
        "#custom_image_path2 = '/content/drive/My Drive/Data/FoodDataset/FoodDataset/test/burger/download (1).jpg'\n",
        "custom_image_path2 = '/content/drive/My Drive/Data/FoodDataset/FoodDataset/test/idli/download (1).jpg'\n",
        "#custom_image_path = '/content/drive/My Drive/Data/FoodDataset/FoodDataset/test/butter_naan/'\n",
        "\n",
        "\"\"\"\n",
        "from pathlib import Path\n",
        "\n",
        "# Setup path to data folder\n",
        "data_path = Path(\"/content/drive/My Drive/Data/FoodDataset/FoodDataset/test\")\n",
        "image_path = data_path / \"burger\"\n",
        "walk_through_dir(image_path)\n",
        "\"\"\"\n",
        "\n",
        "pred_and_plot_image(model=pretrained_vit,\n",
        "                    image_path=custom_image_path2,\n",
        "                    class_names=class_names,\n",
        "                    transform=pretrained_vit_transforms)\n",
        "\n",
        "                    "
      ],
      "metadata": {
        "colab": {
          "base_uri": "https://localhost:8080/",
          "height": 302
        },
        "id": "_3LUxj66ZhXZ",
        "outputId": "48df166f-d45b-4c8c-8d5d-14d7ec023bb2"
      },
      "execution_count": 30,
      "outputs": [
        {
          "output_type": "stream",
          "name": "stderr",
          "text": [
            "WARNING:matplotlib.image:Clipping input data to the valid range for imshow with RGB data ([0..1] for floats or [0..255] for integers).\n"
          ]
        },
        {
          "output_type": "display_data",
          "data": {
            "text/plain": [
              "<Figure size 432x288 with 1 Axes>"
            ],
            "image/png": "[encoded data removed]"
          },
          "metadata": {
            "needs_background": "light"
          }
        }
      ]
    },
    {
      "cell_type": "code",
      "source": [],
      "metadata": {
        "id": "GOagM_mpZj_X"
      },
      "execution_count": null,
      "outputs": []
    },
    {
      "cell_type": "markdown",
      "source": [
        "# 5. Deploy the Model in Gradio - mrdbourke's tutorial for MLOps"
      ],
      "metadata": {
        "id": "ZhApCL7o-oDS"
      }
    }
  ]
}